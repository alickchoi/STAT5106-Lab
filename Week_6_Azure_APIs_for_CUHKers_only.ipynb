{
  "nbformat": 4,
  "nbformat_minor": 0,
  "metadata": {
    "colab": {
      "provenance": [],
      "include_colab_link": true
    },
    "kernelspec": {
      "name": "python3",
      "display_name": "Python 3"
    },
    "language_info": {
      "name": "python"
    }
  },
  "cells": [
    {
      "cell_type": "markdown",
      "metadata": {
        "id": "view-in-github",
        "colab_type": "text"
      },
      "source": [
        "<a href=\"https://colab.research.google.com/github/alickchoi/STAT5106-Lab/blob/main/Week_6_Azure_APIs_for_CUHKers_only.ipynb\" target=\"_parent\"><img src=\"https://colab.research.google.com/assets/colab-badge.svg\" alt=\"Open In Colab\"/></a>"
      ]
    },
    {
      "cell_type": "markdown",
      "source": [
        "# Azure Location Services APIs\n",
        "\n",
        "Thanks Technician Michael Leung in CUHK Stat Dept. We have the [API key](https://drive.google.com/file/d/1Y8W2g3XQHc82cCBdyTdjfzf_QJ3rHvLu/) for your tasting.\n",
        "\n",
        "Reference is here - [Azure Location Services Main Page](https://www.microsoft.com/en-us/maps/azure/location-services/)"
      ],
      "metadata": {
        "id": "GPi1hIDbaeBE"
      }
    },
    {
      "cell_type": "code",
      "execution_count": null,
      "metadata": {
        "id": "-gcek_kWaXpG"
      },
      "outputs": [],
      "source": [
        "from google.colab import userdata\n",
        "AZURE_MAP_KEY = userdata.get('AZURE_MAP_KEY')"
      ]
    },
    {
      "cell_type": "code",
      "source": [
        "import urllib.request, urllib.parse, urllib.error\n",
        "import json\n",
        "import ssl\n",
        "\n",
        "# Ignore SSL certificate errors\n",
        "ctx = ssl.create_default_context()\n",
        "ctx.check_hostname = False\n",
        "ctx.verify_mode = ssl.CERT_NONE"
      ],
      "metadata": {
        "id": "4mp9_Ee3gkl1"
      },
      "execution_count": null,
      "outputs": []
    },
    {
      "cell_type": "markdown",
      "source": [
        "## IP searching location API\n",
        "\n",
        "Document is [here](https://learn.microsoft.com/en-us/rest/api/maps/geolocation?view=rest-maps-2024-04-01)."
      ],
      "metadata": {
        "id": "kPw_ShJ4e_rO"
      }
    },
    {
      "cell_type": "code",
      "source": [
        "# 103.102.166.226 is the ip of www.wikipedia.com\n",
        "ip = '103.102.166.226'\n",
        "url = f'https://atlas.microsoft.com/geolocation/ip/json?api-version=1.0&ip={ip}&subscription-key={AZURE_MAP_KEY}'\n",
        "\n",
        "print('Retrieving', url)\n",
        "uh = urllib.request.urlopen(url, context=ctx)\n",
        "data = uh.read().decode() # Note: decode is for transforming bytes --> UTF-8\n",
        "\n",
        "print(data)"
      ],
      "metadata": {
        "id": "5NkBY13Ke_Q6"
      },
      "execution_count": null,
      "outputs": []
    },
    {
      "cell_type": "markdown",
      "source": [
        "## Search Location Lat-Long API\n",
        "\n",
        "Document is [here](https://learn.microsoft.com/en-us/rest/api/maps/search/get-geocoding?view=rest-maps-2024-04-01&tabs=HTTP)."
      ],
      "metadata": {
        "id": "1oJqQc2hjMnA"
      }
    },
    {
      "cell_type": "code",
      "source": [
        "query = 'Lady Shaw Building The Chinese University of Hong Kong'\n",
        "url = f'https://atlas.microsoft.com/geocode?api-version=2023-06-01&query={urllib.parse.quote_plus(query)}&subscription-key={AZURE_MAP_KEY}'\n",
        "\n",
        "print('Retrieving', url)\n",
        "uh = urllib.request.urlopen(url, context=ctx)\n",
        "data = uh.read().decode() # Note: decode is for transforming bytes --> UTF-8\n",
        "\n",
        "print(data)"
      ],
      "metadata": {
        "id": "y31f90xRlBsU"
      },
      "execution_count": null,
      "outputs": []
    },
    {
      "cell_type": "markdown",
      "source": [
        "## Search Location Name API\n",
        "\n",
        "Document is [here](https://learn.microsoft.com/en-us/rest/api/maps/search/get-reverse-geocoding?view=rest-maps-2024-04-01&tabs=HTTP)."
      ],
      "metadata": {
        "id": "mdP831SBppTY"
      }
    },
    {
      "cell_type": "code",
      "source": [
        "lng, lat = 114.20679473876953,22.419719696044922\n",
        "url = f'https://atlas.microsoft.com/reverseGeocode?api-version=2023-06-01&coordinates={lng},{lat}&subscription-key={AZURE_MAP_KEY}'\n",
        "\n",
        "print('Retrieving', url)\n",
        "uh = urllib.request.urlopen(url, context=ctx)\n",
        "data = uh.read().decode() # Note: decode is for transforming bytes --> UTF-8\n",
        "\n",
        "print(data)"
      ],
      "metadata": {
        "id": "LFOQd_qYpz2N"
      },
      "execution_count": null,
      "outputs": []
    },
    {
      "cell_type": "markdown",
      "source": [
        "# Azure OpenAI (AOAI) API\n",
        "\n",
        "Please go through the application by here - the [pdf](https://www.cuhk.edu.hk/eLearning/download/AOAI-API-QuickStart.pdf).\n",
        "\n",
        "CUHK API Portal for Teaching and Learning - [here](https://cuhk-api-dev1-apim1.developer.azure-api.net/)"
      ],
      "metadata": {
        "id": "fPXWV7yPqu_b"
      }
    },
    {
      "cell_type": "code",
      "source": [
        "from google.colab import userdata\n",
        "AZURE_AOAI_KEY = userdata.get('AZURE_AOAI_KEY')"
      ],
      "metadata": {
        "id": "11t3ryLRsxVE"
      },
      "execution_count": null,
      "outputs": []
    },
    {
      "cell_type": "code",
      "source": [
        "import urllib.request, json\n",
        "\n",
        "try:\n",
        "    url = \"https://cuhk-api-dev1-apim1.azure-api.net/openai/deployments/gpt-35-turbo/chat/completions?api-version=2023-05-15\"\n",
        "\n",
        "    hdr ={\n",
        "    # Request headers\n",
        "      'Content-Type': 'application/json',\n",
        "      'Cache-Control': 'no-cache',\n",
        "      'Ocp-Apim-Subscription-Key': AZURE_AOAI_KEY,\n",
        "    }\n",
        "\n",
        "    # Request body\n",
        "    data = {\n",
        "        \"model\": \"gpt-35-turbo\",\n",
        "        \"messages\": [{\n",
        "            \"role\": \"user\",\n",
        "            \"content\": \"Hello\"\n",
        "        }]\n",
        "    }\n",
        "    data = json.dumps(data)\n",
        "    req = urllib.request.Request(url, headers=hdr, data = bytes(data.encode(\"utf-8\")))\n",
        "\n",
        "    req.get_method = lambda: 'POST'\n",
        "    print(req)\n",
        "    response = urllib.request.urlopen(req)\n",
        "    print(response.getcode())\n",
        "    print(response.read())\n",
        "except Exception as e:\n",
        "    print(e)\n",
        "####################################"
      ],
      "metadata": {
        "id": "6lTt_b9SrfFI"
      },
      "execution_count": null,
      "outputs": []
    },
    {
      "cell_type": "code",
      "source": [],
      "metadata": {
        "id": "46ozPfxvs7pQ"
      },
      "execution_count": null,
      "outputs": []
    }
  ]
}
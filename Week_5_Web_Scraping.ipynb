{
  "nbformat": 4,
  "nbformat_minor": 0,
  "metadata": {
    "kernelspec": {
      "display_name": "Python 3",
      "language": "python",
      "name": "python3"
    },
    "language_info": {
      "codemirror_mode": {
        "name": "ipython",
        "version": 3
      },
      "file_extension": ".py",
      "mimetype": "text/x-python",
      "name": "python",
      "nbconvert_exporter": "python",
      "pygments_lexer": "ipython3",
      "version": "3.6.9"
    },
    "colab": {
      "provenance": [],
      "include_colab_link": true
    }
  },
  "cells": [
    {
      "cell_type": "markdown",
      "metadata": {
        "id": "view-in-github",
        "colab_type": "text"
      },
      "source": [
        "<a href=\"https://colab.research.google.com/github/alickchoi/STAT5106-Lab/blob/main/Week_5_Web_Scraping.ipynb\" target=\"_parent\"><img src=\"https://colab.research.google.com/assets/colab-badge.svg\" alt=\"Open In Colab\"/></a>"
      ]
    },
    {
      "cell_type": "markdown",
      "metadata": {
        "id": "5AyAt4GoQ53A"
      },
      "source": [
        "# Connecting to Google Drive"
      ]
    },
    {
      "cell_type": "code",
      "metadata": {
        "id": "8LvdTyrHQ-Fg",
        "colab": {
          "base_uri": "https://localhost:8080/"
        },
        "outputId": "c510e9fc-ef6e-41b2-ea5e-e6d39ca9617a"
      },
      "source": [
        "from google.colab import drive\n",
        "drive.mount('/content/gdrive')\n",
        "\n",
        "import os\n",
        "\n",
        "# Your original folder\n",
        "gdrive_folder = 'CUHK_STAT5106_2025/Week 5 - Oct 9'\n",
        "os.chdir(f'/content/gdrive/My Drive/{gdrive_folder}')\n",
        "\n",
        "# check whether the folder is as your expected\n",
        "print(os.listdir())"
      ],
      "execution_count": null,
      "outputs": [
        {
          "output_type": "stream",
          "name": "stdout",
          "text": [
            "Mounted at /content/gdrive\n",
            "['Week 5 - Google API Example.ipynb', 'Week 5 - Web Scraping.ipynb', 'Week 5.gslides']\n"
          ]
        }
      ]
    },
    {
      "cell_type": "markdown",
      "metadata": {
        "id": "y88IbmdEQw1K"
      },
      "source": [
        "# Web Scraping"
      ]
    },
    {
      "cell_type": "code",
      "metadata": {
        "id": "zpbVo8rgQw1L"
      },
      "source": [
        "import urllib.request\n",
        "import os\n",
        "from bs4 import BeautifulSoup\n",
        "import time"
      ],
      "execution_count": null,
      "outputs": []
    },
    {
      "cell_type": "code",
      "metadata": {
        "id": "hRi6h98eQw1R",
        "colab": {
          "base_uri": "https://localhost:8080/"
        },
        "outputId": "5449e1dd-e49d-4a87-bf0f-015df146b745"
      },
      "source": [
        "print(os.getcwd())\n",
        "# os.chdir('...')"
      ],
      "execution_count": null,
      "outputs": [
        {
          "output_type": "stream",
          "name": "stdout",
          "text": [
            "/content/gdrive/MyDrive/CUHK_STAT5106_2025/Week 5 - Oct 9\n"
          ]
        }
      ]
    },
    {
      "cell_type": "markdown",
      "metadata": {
        "id": "oMnk9x6lEieH"
      },
      "source": [
        "## Example, back to Dept History"
      ]
    },
    {
      "cell_type": "code",
      "metadata": {
        "id": "Jd7AZYWwEnXY"
      },
      "source": [
        "# url = 'https://www.sta.cuhk.edu.hk/about-us/department-history/'\n",
        "url = 'https://kyalan.github.io/kytest/department-history.html'\n",
        "req = urllib.request.Request(url)\n",
        "resp = urllib.request.urlopen(req)"
      ],
      "execution_count": null,
      "outputs": []
    },
    {
      "cell_type": "code",
      "source": [
        "content = resp.read()\n",
        "\n",
        "# If needed to print or process the content, you can do so here\n",
        "print(content)"
      ],
      "metadata": {
        "id": "LJkMzpyzW-L2"
      },
      "execution_count": null,
      "outputs": []
    },
    {
      "cell_type": "code",
      "metadata": {
        "scrolled": false,
        "id": "2IvhyatrQw1a"
      },
      "source": [
        "# print(dir(req))\n",
        "resp.__dict__"
      ],
      "execution_count": null,
      "outputs": []
    },
    {
      "cell_type": "code",
      "metadata": {
        "id": "aOakH5n-EvmW"
      },
      "source": [
        "# Or directly\n",
        "resp = urllib.request.urlopen(url)\n",
        "\n",
        "html = ''\n",
        "if resp.status==200:   html = resp.read()\n",
        "print(len(html))"
      ],
      "execution_count": null,
      "outputs": []
    },
    {
      "cell_type": "code",
      "source": [
        "html[:100]"
      ],
      "metadata": {
        "id": "pbqsRpeHg669"
      },
      "execution_count": null,
      "outputs": []
    },
    {
      "cell_type": "code",
      "metadata": {
        "id": "-6d5yN_dVpYG"
      },
      "source": [
        "type(html)"
      ],
      "execution_count": null,
      "outputs": []
    },
    {
      "cell_type": "code",
      "metadata": {
        "id": "LE07YywcE3UH"
      },
      "source": [
        "soup = BeautifulSoup(html, 'html.parser')\n",
        "tag_table = soup.table\n",
        "print(tag_table)"
      ],
      "execution_count": null,
      "outputs": []
    },
    {
      "cell_type": "code",
      "source": [
        "soup.find_all('tr')"
      ],
      "metadata": {
        "id": "XzXmw3TQiXYD"
      },
      "execution_count": null,
      "outputs": []
    },
    {
      "cell_type": "code",
      "metadata": {
        "id": "_N3ZkC14Qw1y"
      },
      "source": [
        "# Prettify the BeautifulSoup object: pretty_soup\n",
        "print(tag_table.prettify())"
      ],
      "execution_count": null,
      "outputs": []
    },
    {
      "cell_type": "code",
      "metadata": {
        "id": "mUF-7H-_F6zl"
      },
      "source": [
        "tag_rows = tag_table.findAll('tr', {'class':'odd'})\n",
        "print(tag_rows)"
      ],
      "execution_count": null,
      "outputs": []
    },
    {
      "cell_type": "markdown",
      "source": [
        "We need to take out all words standing for \"Professor\", including \"Prof.\"."
      ],
      "metadata": {
        "id": "xDVXbHSr-EUb"
      }
    },
    {
      "cell_type": "code",
      "metadata": {
        "id": "Vi7EbUtMGUoE"
      },
      "source": [
        "import re\n",
        "\n",
        "for tag in tag_rows:\n",
        "  tag_values = tag.find_all('td')\n",
        "  year = tag_values[0].text\n",
        "  message = re.findall(r'Prof(?:essor)?\\.?(?:\\s[A-Z][a-z-]*)+', tag_values[1].text)\n",
        "  print(year, message)"
      ],
      "execution_count": null,
      "outputs": []
    },
    {
      "cell_type": "markdown",
      "source": [
        "## Example on Fitness Rooms in LCSD site\n",
        "\n",
        "![yuenchaukok_gym.png](https://drive.google.com/uc?export=view&id=1451sSsaHw1ugc2b1CRTxqHMjfYYCYxMu)\n",
        "\n",
        "Gym rooms are provided by the Leisure and Cultural Services Department (LCSD) in the urban area and the New Territories. Let's access into the information site: https://www.lcsd.gov.hk/clpss/en/webApp/FitnessRooms.do"
      ],
      "metadata": {
        "id": "pz094VenhJ7p"
      }
    },
    {
      "cell_type": "code",
      "source": [
        "import urllib.request, urllib.parse\n",
        "from urllib.parse import urljoin\n",
        "from bs4 import BeautifulSoup\n",
        "import pandas as pd"
      ],
      "metadata": {
        "id": "_wd5u8xiif4k"
      },
      "execution_count": null,
      "outputs": []
    },
    {
      "cell_type": "code",
      "source": [
        "url = 'https://www.lcsd.gov.hk/clpss/en/webApp/FitnessRooms.do'\n",
        "resp = urllib.request.Request(url=url, headers={'User-Agent': 'Mozilla/5.0'})\n",
        "\n",
        "html = ''\n",
        "req = urllib.request.urlopen(resp)\n",
        "if req.status==200:   html = req.read().decode()\n",
        "print(f'website retrieved: {len(html)}')"
      ],
      "metadata": {
        "id": "C7gp6GvEiiPG"
      },
      "execution_count": null,
      "outputs": []
    },
    {
      "cell_type": "markdown",
      "source": [
        "Note !\n",
        "\n",
        "```\n",
        "headers={'User-Agent': 'Mozilla/5.0'}\n",
        "```\n",
        "is a must here.\n"
      ],
      "metadata": {
        "id": "adtxG24GiojH"
      }
    },
    {
      "cell_type": "code",
      "source": [
        "soup = BeautifulSoup(html, 'html.parser')"
      ],
      "metadata": {
        "id": "0ZB6IqbQjFpE"
      },
      "execution_count": null,
      "outputs": []
    },
    {
      "cell_type": "markdown",
      "source": [
        "We aim to obtain all rows of tables - \\<tr\\> tags and \\<td\\> for each tag"
      ],
      "metadata": {
        "id": "NaED-AGMje71"
      }
    },
    {
      "cell_type": "code",
      "source": [
        "tags_tr = soup.find_all('tr')\n",
        "len(tags_tr)"
      ],
      "metadata": {
        "id": "4yZ_zA5jjHT2"
      },
      "execution_count": null,
      "outputs": []
    },
    {
      "cell_type": "code",
      "source": [
        "tags_td = tags_tr[1].find_all('td')"
      ],
      "metadata": {
        "id": "U_lei3Ogby1m"
      },
      "execution_count": null,
      "outputs": []
    },
    {
      "cell_type": "code",
      "source": [
        "tags_td"
      ],
      "metadata": {
        "id": "Qd0ODmnVcZFM"
      },
      "execution_count": null,
      "outputs": []
    },
    {
      "cell_type": "code",
      "source": [
        "rows = []\n",
        "for tag_tr in tags_tr:\n",
        "  tags_td = tag_tr.find_all('td')\n",
        "  row = []\n",
        "  for tag_td in tags_td:\n",
        "    value = tag_td.text.strip()\n",
        "    row.append(value)\n",
        "  rows.append(row)"
      ],
      "metadata": {
        "id": "KxZtKXWVccnt"
      },
      "execution_count": null,
      "outputs": []
    },
    {
      "cell_type": "code",
      "source": [
        "rows"
      ],
      "metadata": {
        "id": "RkB0i8dwt8Br"
      },
      "execution_count": null,
      "outputs": []
    },
    {
      "cell_type": "markdown",
      "source": [
        "The link in html may be in form of relative link, says \"/clpss/en/webApp/FitnessRoomDetails.do?id=1374\" <br>\n",
        "You can use urljoin with serviceurl = \"https://www.lcsd.gov.hk\" for making a full link."
      ],
      "metadata": {
        "id": "Kr3zXjNajvwy"
      }
    },
    {
      "cell_type": "code",
      "source": [
        "serviceurl = 'https://www.lcsd.gov.hk'\n",
        "\n",
        "dict_tags = []\n",
        "for tag in tags_tr:\n",
        "    tags_td = tag.find_all('td')\n",
        "    if len(tags_td) != 4: continue\n",
        "    dict_tag = {}\n",
        "    dict_tag['venu'] = tags_td[0].text\n",
        "    dict_tag['addr'] = tags_td[1].text\n",
        "    dict_tag['tel'] = tags_td[2].text\n",
        "    dict_tag['link'] = urljoin(serviceurl, tags_td[3].a.get('href'))\n",
        "    dict_tags.append(dict_tag)"
      ],
      "metadata": {
        "id": "AbesQA4rjYfD"
      },
      "execution_count": null,
      "outputs": []
    },
    {
      "cell_type": "code",
      "source": [
        "dict_tags"
      ],
      "metadata": {
        "id": "MkgkT5JRd7d2"
      },
      "execution_count": null,
      "outputs": []
    },
    {
      "cell_type": "code",
      "source": [
        "df_url = pd.DataFrame(dict_tags)"
      ],
      "metadata": {
        "id": "EuwdQLdsj5dT"
      },
      "execution_count": null,
      "outputs": []
    },
    {
      "cell_type": "code",
      "source": [
        "df_url"
      ],
      "metadata": {
        "id": "6clTVUKlj7YS"
      },
      "execution_count": null,
      "outputs": []
    },
    {
      "cell_type": "markdown",
      "metadata": {
        "id": "o8lfpc5URfqN"
      },
      "source": [
        "# Why google search url cannot be worked?"
      ]
    },
    {
      "cell_type": "code",
      "metadata": {
        "id": "FzHEa7ZlQw1u"
      },
      "source": [
        "# url = 'https://www.google.com/search?q=japanese+onsen&tbm=isch'\n",
        "url = 'https://www.google.com/search?q=japanese+onsen'\n",
        "req = urllib.request.urlopen(url)"
      ],
      "execution_count": null,
      "outputs": []
    },
    {
      "cell_type": "code",
      "source": [
        "req.read()"
      ],
      "metadata": {
        "id": "4gpfiRRFe8wU"
      },
      "execution_count": null,
      "outputs": []
    },
    {
      "cell_type": "markdown",
      "metadata": {
        "id": "rScShCY5Rzqt"
      },
      "source": [
        "Also, some of sites do not work..."
      ]
    },
    {
      "cell_type": "code",
      "metadata": {
        "id": "IA7sTQx-R4hr"
      },
      "source": [
        "url = 'https://www.skyscanner.com.hk/transport/flights/hkg/lond/?null&oym=2512&selectedoday=21&iym=2512&selectediday=31'\n",
        "req = urllib.request.urlopen(url)\n",
        "html = req.read()"
      ],
      "execution_count": null,
      "outputs": []
    },
    {
      "cell_type": "code",
      "metadata": {
        "id": "tFeE1Ax1SOYZ"
      },
      "source": [
        "print(BeautifulSoup(html, 'html.parser').prettify())"
      ],
      "execution_count": null,
      "outputs": []
    },
    {
      "cell_type": "markdown",
      "metadata": {
        "id": "umyGvye7Qw17"
      },
      "source": [
        "tag list: https://www.w3schools.com/tags/ref_byfunc.asp"
      ]
    }
  ]
}
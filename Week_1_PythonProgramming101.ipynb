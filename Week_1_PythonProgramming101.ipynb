{
  "cells": [
    {
      "cell_type": "markdown",
      "metadata": {
        "id": "Tk_BnrGvKMQ5"
      },
      "source": [
        "VPN to United States and reopen this, you will have something special 😆"
      ]
    },
    {
      "cell_type": "code",
      "source": [],
      "metadata": {
        "id": "9ia7ffAwFt-0"
      },
      "execution_count": null,
      "outputs": []
    },
    {
      "cell_type": "markdown",
      "metadata": {
        "id": "BJLe9DwKSGjo"
      },
      "source": [
        "# Python Programming 101\n",
        "\n",
        "### Constants"
      ]
    },
    {
      "cell_type": "code",
      "source": [],
      "metadata": {
        "id": "p2LN5g1ThBsl"
      },
      "execution_count": null,
      "outputs": []
    },
    {
      "cell_type": "markdown",
      "metadata": {
        "id": "5JX_rfL5JSDi"
      },
      "source": []
    },
    {
      "cell_type": "code",
      "source": [
        "import numpy as np\n",
        "\n",
        "print(np.array([True, 1, 2]) + np.array([3, 4, False]))\n",
        "\n",
        "print(np.array([True, 1, 2, 3, 4, False]))\n",
        "\n",
        "print(np.array([4, 3, 0]) + np.array([0, 2, 2]))\n",
        "\n",
        "print(np.array([1, 1, 2]) + np.array([3, 4, -1]))\n",
        "\n",
        "print(np.array([0, 1, 2, 3, 4, 5]))"
      ],
      "metadata": {
        "colab": {
          "base_uri": "https://localhost:8080/"
        },
        "id": "sTxw53QUmB2G",
        "outputId": "ee3a5708-12c6-4d53-ff0c-ab6ae7968743"
      },
      "execution_count": null,
      "outputs": [
        {
          "output_type": "stream",
          "name": "stdout",
          "text": [
            "[4 5 2]\n",
            "[1 1 2 3 4 0]\n",
            "[4 5 2]\n",
            "[4 5 1]\n",
            "[0 1 2 3 4 5]\n"
          ]
        }
      ]
    },
    {
      "cell_type": "code",
      "execution_count": null,
      "metadata": {
        "colab": {
          "base_uri": "https://localhost:8080/"
        },
        "id": "kZRzsKplSGjo",
        "outputId": "fb321e09-ef3d-4cae-886d-1524cd994da0",
        "collapsed": true
      },
      "outputs": [
        {
          "output_type": "stream",
          "name": "stdout",
          "text": [
            "123\n",
            "98.6\n",
            "Hello World\n",
            "True\n"
          ]
        }
      ],
      "source": [
        "print(123)\n",
        "print(98.6)\n",
        "print('Hello World')\n",
        "print(True) # Boolean"
      ]
    },
    {
      "cell_type": "markdown",
      "metadata": {
        "id": "E_ows4a4GZNn"
      },
      "source": [
        "For Checking hotkey, please press Ctrl-M, then press H."
      ]
    },
    {
      "cell_type": "markdown",
      "metadata": {
        "id": "n5ZlqDZlSGjs"
      },
      "source": [
        "### Variables"
      ]
    },
    {
      "cell_type": "code",
      "execution_count": null,
      "metadata": {
        "id": "0HjG1HPaFpEf"
      },
      "outputs": [],
      "source": [
        "x = 12.2\n",
        "y = 14"
      ]
    },
    {
      "cell_type": "code",
      "execution_count": null,
      "metadata": {
        "colab": {
          "base_uri": "https://localhost:8080/"
        },
        "id": "R5uOZdh0SGjs",
        "outputId": "5106551a-1ee3-4097-cdb7-41bfdb98a4fe"
      },
      "outputs": [
        {
          "output_type": "stream",
          "name": "stdout",
          "text": [
            "25.6 36.9\n"
          ]
        }
      ],
      "source": [
        "# Or you can\n",
        "x, y = 25.6, 36.9\n",
        "print(x, y)"
      ]
    },
    {
      "cell_type": "code",
      "execution_count": null,
      "metadata": {
        "colab": {
          "base_uri": "https://localhost:8080/"
        },
        "id": "5rTQJ-TlQcfc",
        "outputId": "5fcb7c2c-1de0-4ab5-e0c0-a367b41a7bd7"
      },
      "outputs": [
        {
          "output_type": "stream",
          "name": "stdout",
          "text": [
            "100 14\n"
          ]
        }
      ],
      "source": [
        "x = 100\n",
        "print(x, y)"
      ]
    },
    {
      "cell_type": "markdown",
      "metadata": {
        "id": "z200avDzIs72"
      },
      "source": [
        "Notes: Rules for variable names\n",
        "- A variable name must start with a letter or the underscore character\n",
        "- A variable name cannot start with a number\n",
        "- A variable name can only contain alpha-numeric characters and underscores (A-z, 0-9, and _ )\n",
        "- Variable names are case-sensitive (age, Age and AGE are three different variables)"
      ]
    },
    {
      "cell_type": "code",
      "execution_count": null,
      "metadata": {
        "colab": {
          "base_uri": "https://localhost:8080/"
        },
        "id": "m_x11PcnKEj-",
        "outputId": "3f4ec858-09a4-4960-b04e-19b98580c39c"
      },
      "outputs": [
        {
          "output_type": "stream",
          "name": "stdout",
          "text": [
            "3.141592654 300 😂\n"
          ]
        }
      ],
      "source": [
        "# But this one is okay\n",
        "π = 3.141592654\n",
        "此地無銀 = 300\n",
        "\n",
        "print(π, 此地無銀, '😂')"
      ]
    },
    {
      "cell_type": "markdown",
      "metadata": {
        "id": "hV40QetNKpJl"
      },
      "source": [
        "Reference is [here](https://medium.com/data-science/why-im-coding-with-emojis-in-jupyter-notebooks-23f08585ed3d)."
      ]
    },
    {
      "cell_type": "markdown",
      "metadata": {
        "id": "hGcncQy9SGjv"
      },
      "source": [
        "### Expressions"
      ]
    },
    {
      "cell_type": "code",
      "execution_count": null,
      "metadata": {
        "colab": {
          "base_uri": "https://localhost:8080/"
        },
        "id": "HZltHW26SGjw",
        "outputId": "5f78f832-0e25-4c9f-8a3d-93fbf9dc6144"
      },
      "outputs": [
        {
          "output_type": "stream",
          "name": "stdout",
          "text": [
            "100.5\n"
          ]
        }
      ],
      "source": [
        "# Addition\n",
        "octopus = 0.5\n",
        "octopus = octopus + 100\n",
        "# Or you can use octopus += 2\n",
        "print(octopus)"
      ]
    },
    {
      "cell_type": "code",
      "execution_count": null,
      "metadata": {
        "colab": {
          "base_uri": "https://localhost:8080/"
        },
        "id": "YFz2hmVBMyp8",
        "outputId": "7d424f14-8fd3-4467-cecc-ec86ab751e06"
      },
      "outputs": [
        {
          "name": "stdout",
          "output_type": "stream",
          "text": [
            "200.5\n"
          ]
        }
      ],
      "source": [
        "octopus += 100\n",
        "print(octopus)"
      ]
    },
    {
      "cell_type": "code",
      "execution_count": null,
      "metadata": {
        "colab": {
          "base_uri": "https://localhost:8080/"
        },
        "id": "OVqGuKCOQi_7",
        "outputId": "7fc55d46-c670-4032-83e2-f1df9bafc49a"
      },
      "outputs": [
        {
          "name": "stdout",
          "output_type": "stream",
          "text": [
            "5280\n"
          ]
        }
      ],
      "source": [
        "# Multiplication\n",
        "kg = 440 * 12\n",
        "print(kg)"
      ]
    },
    {
      "cell_type": "code",
      "execution_count": null,
      "metadata": {
        "colab": {
          "base_uri": "https://localhost:8080/"
        },
        "id": "HgV50_EjQlAc",
        "outputId": "ee1ff873-0d73-40f6-e675-6adc86ce3cb9"
      },
      "outputs": [
        {
          "name": "stdout",
          "output_type": "stream",
          "text": [
            "5.28\n"
          ]
        }
      ],
      "source": [
        "# Division\n",
        "ton = kg / 1000\n",
        "print(ton)"
      ]
    },
    {
      "cell_type": "code",
      "execution_count": null,
      "metadata": {
        "colab": {
          "base_uri": "https://localhost:8080/"
        },
        "id": "GUqklw_uQnm7",
        "outputId": "2502798e-8938-4b60-b691-8f4ff0fdb3aa"
      },
      "outputs": [
        {
          "output_type": "stream",
          "name": "stdout",
          "text": [
            "23 divided by 5 equals 4 with remainder 3\n"
          ]
        }
      ],
      "source": [
        "# Remainder\n",
        "num = 23\n",
        "quo, rem = num // 5, num % 5\n",
        "print(f'{num} divided by 5 equals {quo} with remainder {rem}')"
      ]
    },
    {
      "cell_type": "code",
      "execution_count": null,
      "metadata": {
        "colab": {
          "base_uri": "https://localhost:8080/"
        },
        "id": "9DH_vxT1NMcT",
        "outputId": "c452c726-46b1-4804-a510-e15c35c487c9"
      },
      "outputs": [
        {
          "name": "stdout",
          "output_type": "stream",
          "text": [
            "64\n"
          ]
        }
      ],
      "source": [
        "# Power\n",
        "print(4 ** 3)"
      ]
    },
    {
      "cell_type": "code",
      "execution_count": null,
      "metadata": {
        "colab": {
          "base_uri": "https://localhost:8080/"
        },
        "id": "kxBG_0GFSGjz",
        "outputId": "79395ad5-fe3e-483c-eaf8-3cbab07ae11a"
      },
      "outputs": [
        {
          "name": "stdout",
          "output_type": "stream",
          "text": [
            "6.999744\n",
            "11.0\n"
          ]
        }
      ],
      "source": [
        "# Operation Order\n",
        "x = 1 + 2 * 3 - 4 / 5 ** 6\n",
        "print(x)\n",
        "x = 1 + 2 ** 3 / 4 * 5\n",
        "print(x)"
      ]
    },
    {
      "cell_type": "markdown",
      "metadata": {
        "id": "23AITElcO03i"
      },
      "source": [
        "Reference is [here](https://cheatography.com/nouha-thabet/cheat-sheets/python-operators-and-booleans/).\n",
        "![Week 1 colab 001.png](https://drive.google.com/uc?export=view&id=13m_geSQwMSNe43qn1AqDN66CqX3hNOfj)"
      ]
    },
    {
      "cell_type": "markdown",
      "metadata": {
        "id": "5ijxbIHWSGj3"
      },
      "source": [
        "### Variable Types"
      ]
    },
    {
      "cell_type": "code",
      "execution_count": null,
      "metadata": {
        "colab": {
          "base_uri": "https://localhost:8080/"
        },
        "id": "bDrKOM3ASGj3",
        "outputId": "b08333fd-c4f7-4068-d7c8-94dba13ba4b1"
      },
      "outputs": [
        {
          "name": "stdout",
          "output_type": "stream",
          "text": [
            "5\n"
          ]
        }
      ],
      "source": [
        "# numeric \"+\"\n",
        "num_add = 1 + 4\n",
        "print(num_add)"
      ]
    },
    {
      "cell_type": "code",
      "execution_count": null,
      "metadata": {
        "colab": {
          "base_uri": "https://localhost:8080/"
        },
        "id": "07IhamrTSWb6",
        "outputId": "aea1c5d7-33eb-49c4-cb95-c274ea8d2ff0"
      },
      "outputs": [
        {
          "name": "stdout",
          "output_type": "stream",
          "text": [
            "hello there\n"
          ]
        }
      ],
      "source": [
        "# string \"+\"\n",
        "str_add = 'hello ' + 'there'\n",
        "print(str_add)"
      ]
    },
    {
      "cell_type": "code",
      "execution_count": null,
      "metadata": {
        "colab": {
          "base_uri": "https://localhost:8080/",
          "height": 159
        },
        "id": "LyE5gE5QSY0p",
        "outputId": "c10c9331-7ce1-4838-8ec8-90a60167edcb"
      },
      "outputs": [
        {
          "output_type": "error",
          "ename": "NameError",
          "evalue": "name 'str_add' is not defined",
          "traceback": [
            "\u001b[0;31m---------------------------------------------------------------------------\u001b[0m",
            "\u001b[0;31mNameError\u001b[0m                                 Traceback (most recent call last)",
            "\u001b[0;32m/tmp/ipython-input-4238687211.py\u001b[0m in \u001b[0;36m<cell line: 0>\u001b[0;34m()\u001b[0m\n\u001b[1;32m      1\u001b[0m \u001b[0;31m# Error\u001b[0m\u001b[0;34m\u001b[0m\u001b[0;34m\u001b[0m\u001b[0m\n\u001b[0;32m----> 2\u001b[0;31m \u001b[0mstr_add\u001b[0m \u001b[0;34m=\u001b[0m \u001b[0mstr_add\u001b[0m \u001b[0;34m+\u001b[0m \u001b[0;36m1\u001b[0m\u001b[0;34m\u001b[0m\u001b[0;34m\u001b[0m\u001b[0m\n\u001b[0m",
            "\u001b[0;31mNameError\u001b[0m: name 'str_add' is not defined"
          ]
        }
      ],
      "source": [
        "# Error\n",
        "str_add = str_add + 1"
      ]
    },
    {
      "cell_type": "code",
      "execution_count": null,
      "metadata": {
        "colab": {
          "base_uri": "https://localhost:8080/",
          "height": 162
        },
        "id": "DSO0lSj6S7sv",
        "outputId": "0437b443-0487-4aaa-e26e-02c2c657d36e"
      },
      "outputs": [
        {
          "output_type": "error",
          "ename": "NameError",
          "evalue": "name 'str_add' is not defined",
          "traceback": [
            "\u001b[0;31m---------------------------------------------------------------------------\u001b[0m",
            "\u001b[0;31mNameError\u001b[0m                                 Traceback (most recent call last)",
            "\u001b[0;32m/tmp/ipython-input-3956836168.py\u001b[0m in \u001b[0;36m<cell line: 0>\u001b[0;34m()\u001b[0m\n\u001b[1;32m      1\u001b[0m \u001b[0;31m# Check the type\u001b[0m\u001b[0;34m\u001b[0m\u001b[0;34m\u001b[0m\u001b[0m\n\u001b[0;32m----> 2\u001b[0;31m \u001b[0mprint\u001b[0m\u001b[0;34m(\u001b[0m\u001b[0mtype\u001b[0m\u001b[0;34m(\u001b[0m\u001b[0mstr_add\u001b[0m\u001b[0;34m)\u001b[0m\u001b[0;34m)\u001b[0m\u001b[0;34m\u001b[0m\u001b[0;34m\u001b[0m\u001b[0m\n\u001b[0m",
            "\u001b[0;31mNameError\u001b[0m: name 'str_add' is not defined"
          ]
        }
      ],
      "source": [
        "# Check the type\n",
        "print(type(str_add))"
      ]
    },
    {
      "cell_type": "code",
      "execution_count": null,
      "metadata": {
        "colab": {
          "base_uri": "https://localhost:8080/"
        },
        "id": "crKDD4jAScDJ",
        "outputId": "8a30ad7b-a085-44eb-c90c-f8873d974432"
      },
      "outputs": [
        {
          "name": "stdout",
          "output_type": "stream",
          "text": [
            "<class 'str'>\n",
            "<class 'int'>\n"
          ]
        }
      ],
      "source": [
        "print(type('hello'))\n",
        "print(type(1))"
      ]
    },
    {
      "cell_type": "markdown",
      "metadata": {
        "id": "y5_3C8DJSGj7"
      },
      "source": [
        "### Type Conversions"
      ]
    },
    {
      "cell_type": "code",
      "execution_count": null,
      "metadata": {
        "colab": {
          "base_uri": "https://localhost:8080/"
        },
        "id": "5Q7BbaDySGj7",
        "outputId": "544e860e-13ff-48f3-bb2d-8abf65ab033e"
      },
      "outputs": [
        {
          "name": "stdout",
          "output_type": "stream",
          "text": [
            "199.0\n"
          ]
        }
      ],
      "source": [
        "print(float(99) + 100)"
      ]
    },
    {
      "cell_type": "code",
      "execution_count": null,
      "metadata": {
        "colab": {
          "base_uri": "https://localhost:8080/"
        },
        "id": "neJsGR-bS_En",
        "outputId": "acb5d6aa-f8bf-47e2-f217-8bba29847f5b"
      },
      "outputs": [
        {
          "name": "stdout",
          "output_type": "stream",
          "text": [
            "Type of i = <class 'int'>\n",
            "42.0\n",
            "Type of f = <class 'float'>\n"
          ]
        }
      ],
      "source": [
        "i = 42\n",
        "print(f'Type of i = {type(i)}')\n",
        "\n",
        "f = float(i)\n",
        "print(f)\n",
        "print(f'Type of f = {type(f)}')"
      ]
    },
    {
      "cell_type": "code",
      "execution_count": null,
      "metadata": {
        "colab": {
          "base_uri": "https://localhost:8080/",
          "height": 193
        },
        "id": "wGTzMPcOSGj_",
        "outputId": "ee2a88d7-270b-43bc-9ebe-699ad84bc493"
      },
      "outputs": [
        {
          "output_type": "stream",
          "name": "stdout",
          "text": [
            "Type of str_num_eg = <class 'str'>\n"
          ]
        },
        {
          "output_type": "error",
          "ename": "TypeError",
          "evalue": "can only concatenate str (not \"int\") to str",
          "traceback": [
            "\u001b[0;31m---------------------------------------------------------------------------\u001b[0m",
            "\u001b[0;31mTypeError\u001b[0m                                 Traceback (most recent call last)",
            "\u001b[0;32m/tmp/ipython-input-543802276.py\u001b[0m in \u001b[0;36m<cell line: 0>\u001b[0;34m()\u001b[0m\n\u001b[1;32m      2\u001b[0m \u001b[0mstr_num_eg\u001b[0m \u001b[0;34m=\u001b[0m \u001b[0;34m'123'\u001b[0m\u001b[0;34m\u001b[0m\u001b[0;34m\u001b[0m\u001b[0m\n\u001b[1;32m      3\u001b[0m \u001b[0mprint\u001b[0m\u001b[0;34m(\u001b[0m\u001b[0;34mf'Type of str_num_eg = {type(str_num_eg)}'\u001b[0m\u001b[0;34m)\u001b[0m\u001b[0;34m\u001b[0m\u001b[0;34m\u001b[0m\u001b[0m\n\u001b[0;32m----> 4\u001b[0;31m \u001b[0mprint\u001b[0m\u001b[0;34m(\u001b[0m\u001b[0mstr_num_eg\u001b[0m \u001b[0;34m+\u001b[0m \u001b[0;36m1\u001b[0m\u001b[0;34m)\u001b[0m\u001b[0;34m\u001b[0m\u001b[0;34m\u001b[0m\u001b[0m\n\u001b[0m",
            "\u001b[0;31mTypeError\u001b[0m: can only concatenate str (not \"int\") to str"
          ]
        }
      ],
      "source": [
        "# Error for this case\n",
        "str_num_eg = '123'\n",
        "print(f'Type of str_num_eg = {type(str_num_eg)}')\n",
        "print(str_num_eg + 1)"
      ]
    },
    {
      "cell_type": "code",
      "execution_count": null,
      "metadata": {
        "colab": {
          "base_uri": "https://localhost:8080/"
        },
        "id": "E8V8KtYjTTDE",
        "outputId": "07c6c2c9-9cd3-43f1-a80e-54cece97924d"
      },
      "outputs": [
        {
          "name": "stdout",
          "output_type": "stream",
          "text": [
            "<class 'int'>\n",
            "124\n"
          ]
        }
      ],
      "source": [
        "# This is okay\n",
        "int_num_eg = int(str_num_eg)\n",
        "print(type(int_num_eg))\n",
        "print(int_num_eg + 1)"
      ]
    },
    {
      "cell_type": "code",
      "execution_count": null,
      "metadata": {
        "colab": {
          "base_uri": "https://localhost:8080/"
        },
        "id": "JKGVxnm1TstS",
        "outputId": "5c39f464-66a7-474b-8341-9b6e87ccb969"
      },
      "outputs": [
        {
          "name": "stdout",
          "output_type": "stream",
          "text": [
            "123\n"
          ]
        }
      ],
      "source": [
        "# convert to string\n",
        "print(str(int_num_eg))"
      ]
    },
    {
      "cell_type": "code",
      "execution_count": null,
      "metadata": {
        "colab": {
          "base_uri": "https://localhost:8080/",
          "height": 180
        },
        "id": "x6M07mxYTk5T",
        "outputId": "e494a018-0c60-49ba-d5d6-121c3d5d38ad"
      },
      "outputs": [
        {
          "output_type": "error",
          "ename": "ValueError",
          "evalue": "invalid literal for int() with base 10: 'I go to make error'",
          "traceback": [
            "\u001b[0;31m---------------------------------------------------------------------------\u001b[0m",
            "\u001b[0;31mValueError\u001b[0m                                Traceback (most recent call last)",
            "\u001b[0;32m/tmp/ipython-input-3892933552.py\u001b[0m in \u001b[0;36m<cell line: 0>\u001b[0;34m()\u001b[0m\n\u001b[1;32m      1\u001b[0m \u001b[0;31m# Error\u001b[0m\u001b[0;34m\u001b[0m\u001b[0;34m\u001b[0m\u001b[0m\n\u001b[1;32m      2\u001b[0m \u001b[0merr_str2int\u001b[0m \u001b[0;34m=\u001b[0m \u001b[0;34m'I go to make error'\u001b[0m\u001b[0;34m\u001b[0m\u001b[0;34m\u001b[0m\u001b[0m\n\u001b[0;32m----> 3\u001b[0;31m \u001b[0merr_int\u001b[0m \u001b[0;34m=\u001b[0m \u001b[0mint\u001b[0m\u001b[0;34m(\u001b[0m\u001b[0merr_str2int\u001b[0m\u001b[0;34m)\u001b[0m\u001b[0;34m\u001b[0m\u001b[0;34m\u001b[0m\u001b[0m\n\u001b[0m",
            "\u001b[0;31mValueError\u001b[0m: invalid literal for int() with base 10: 'I go to make error'"
          ]
        }
      ],
      "source": [
        "# Error\n",
        "err_str2int = 'I go to make error'\n",
        "err_int = int(err_str2int)"
      ]
    },
    {
      "cell_type": "markdown",
      "metadata": {
        "id": "7sI0U1tXSGkE"
      },
      "source": [
        "### Integer Division"
      ]
    },
    {
      "cell_type": "code",
      "execution_count": null,
      "metadata": {
        "id": "DqBT9e9GO6aD",
        "colab": {
          "base_uri": "https://localhost:8080/"
        },
        "outputId": "e65ad2b3-b059-46d2-9c80-db7200ddcb09"
      },
      "outputs": [
        {
          "output_type": "stream",
          "name": "stdout",
          "text": [
            "5\n"
          ]
        }
      ],
      "source": [
        "# Outcome of integer division gives integers\n",
        "print(10 // 2)"
      ]
    },
    {
      "cell_type": "code",
      "execution_count": null,
      "metadata": {
        "id": "fH39P9YFSGkE",
        "colab": {
          "base_uri": "https://localhost:8080/"
        },
        "outputId": "e76d7b45-2e4c-4984-f327-ffd62cf59448"
      },
      "outputs": [
        {
          "output_type": "stream",
          "name": "stdout",
          "text": [
            "5.0\n",
            "4.5\n",
            "0.99\n",
            "5.0\n",
            "0.99\n"
          ]
        }
      ],
      "source": [
        "# Outcome a float whatever they are integers or floats\n",
        "print(10 / 2)\n",
        "print(9 / 2)\n",
        "print(99 / 100)\n",
        "print(10.0 / 2.0)\n",
        "print(99.0 / 100.0)"
      ]
    },
    {
      "cell_type": "markdown",
      "metadata": {
        "id": "yzy0c8beSGkH"
      },
      "source": [
        "User Input"
      ]
    },
    {
      "cell_type": "code",
      "execution_count": null,
      "metadata": {
        "id": "UaB5oiRGSGkI",
        "scrolled": false,
        "colab": {
          "base_uri": "https://localhost:8080/",
          "height": 318
        },
        "outputId": "9937ac20-a34b-497c-c553-7d15c74a8eb3"
      },
      "outputs": [
        {
          "output_type": "error",
          "ename": "KeyboardInterrupt",
          "evalue": "Interrupted by user",
          "traceback": [
            "\u001b[0;31m---------------------------------------------------------------------------\u001b[0m",
            "\u001b[0;31mKeyboardInterrupt\u001b[0m                         Traceback (most recent call last)",
            "\u001b[0;32m/tmp/ipython-input-3134142193.py\u001b[0m in \u001b[0;36m<cell line: 0>\u001b[0;34m()\u001b[0m\n\u001b[0;32m----> 1\u001b[0;31m \u001b[0mname\u001b[0m \u001b[0;34m=\u001b[0m \u001b[0minput\u001b[0m\u001b[0;34m(\u001b[0m\u001b[0;34m'Who are you? '\u001b[0m\u001b[0;34m)\u001b[0m\u001b[0;34m\u001b[0m\u001b[0;34m\u001b[0m\u001b[0m\n\u001b[0m\u001b[1;32m      2\u001b[0m \u001b[0mprint\u001b[0m\u001b[0;34m(\u001b[0m\u001b[0;34mf'Hi {name} your salary is being transferred to your wife automatically...'\u001b[0m\u001b[0;34m)\u001b[0m\u001b[0;34m\u001b[0m\u001b[0;34m\u001b[0m\u001b[0m\n",
            "\u001b[0;32m/usr/local/lib/python3.12/dist-packages/ipykernel/kernelbase.py\u001b[0m in \u001b[0;36mraw_input\u001b[0;34m(self, prompt)\u001b[0m\n\u001b[1;32m   1175\u001b[0m                 \u001b[0;34m\"raw_input was called, but this frontend does not support input requests.\"\u001b[0m\u001b[0;34m\u001b[0m\u001b[0;34m\u001b[0m\u001b[0m\n\u001b[1;32m   1176\u001b[0m             )\n\u001b[0;32m-> 1177\u001b[0;31m         return self._input_request(\n\u001b[0m\u001b[1;32m   1178\u001b[0m             \u001b[0mstr\u001b[0m\u001b[0;34m(\u001b[0m\u001b[0mprompt\u001b[0m\u001b[0;34m)\u001b[0m\u001b[0;34m,\u001b[0m\u001b[0;34m\u001b[0m\u001b[0;34m\u001b[0m\u001b[0m\n\u001b[1;32m   1179\u001b[0m             \u001b[0mself\u001b[0m\u001b[0;34m.\u001b[0m\u001b[0m_parent_ident\u001b[0m\u001b[0;34m[\u001b[0m\u001b[0;34m\"shell\"\u001b[0m\u001b[0;34m]\u001b[0m\u001b[0;34m,\u001b[0m\u001b[0;34m\u001b[0m\u001b[0;34m\u001b[0m\u001b[0m\n",
            "\u001b[0;32m/usr/local/lib/python3.12/dist-packages/ipykernel/kernelbase.py\u001b[0m in \u001b[0;36m_input_request\u001b[0;34m(self, prompt, ident, parent, password)\u001b[0m\n\u001b[1;32m   1217\u001b[0m             \u001b[0;32mexcept\u001b[0m \u001b[0mKeyboardInterrupt\u001b[0m\u001b[0;34m:\u001b[0m\u001b[0;34m\u001b[0m\u001b[0;34m\u001b[0m\u001b[0m\n\u001b[1;32m   1218\u001b[0m                 \u001b[0;31m# re-raise KeyboardInterrupt, to truncate traceback\u001b[0m\u001b[0;34m\u001b[0m\u001b[0;34m\u001b[0m\u001b[0m\n\u001b[0;32m-> 1219\u001b[0;31m                 \u001b[0;32mraise\u001b[0m \u001b[0mKeyboardInterrupt\u001b[0m\u001b[0;34m(\u001b[0m\u001b[0;34m\"Interrupted by user\"\u001b[0m\u001b[0;34m)\u001b[0m \u001b[0;32mfrom\u001b[0m \u001b[0;32mNone\u001b[0m\u001b[0;34m\u001b[0m\u001b[0;34m\u001b[0m\u001b[0m\n\u001b[0m\u001b[1;32m   1220\u001b[0m             \u001b[0;32mexcept\u001b[0m \u001b[0mException\u001b[0m\u001b[0;34m:\u001b[0m\u001b[0;34m\u001b[0m\u001b[0;34m\u001b[0m\u001b[0m\n\u001b[1;32m   1221\u001b[0m                 \u001b[0mself\u001b[0m\u001b[0;34m.\u001b[0m\u001b[0mlog\u001b[0m\u001b[0;34m.\u001b[0m\u001b[0mwarning\u001b[0m\u001b[0;34m(\u001b[0m\u001b[0;34m\"Invalid Message:\"\u001b[0m\u001b[0;34m,\u001b[0m \u001b[0mexc_info\u001b[0m\u001b[0;34m=\u001b[0m\u001b[0;32mTrue\u001b[0m\u001b[0;34m)\u001b[0m\u001b[0;34m\u001b[0m\u001b[0;34m\u001b[0m\u001b[0m\n",
            "\u001b[0;31mKeyboardInterrupt\u001b[0m: Interrupted by user"
          ]
        }
      ],
      "source": [
        "name = input('Who are you? ')\n",
        "print(f'Hi {name} your salary is being transferred to your wife automatically...')"
      ]
    },
    {
      "cell_type": "markdown",
      "metadata": {
        "id": "mE-8z3nHSGkL"
      },
      "source": [
        "### Conditional Statement"
      ]
    },
    {
      "cell_type": "code",
      "execution_count": null,
      "metadata": {
        "colab": {
          "base_uri": "https://localhost:8080/"
        },
        "id": "gjQdMiLPSGkM",
        "outputId": "62fc1e1a-4f16-47d8-b8ad-75da2246f3a0"
      },
      "outputs": [
        {
          "output_type": "stream",
          "name": "stdout",
          "text": [
            "Before 5\n",
            "Is 5\n",
            "Is Still 5\n",
            "Third 5\n",
            "Afterwards 5\n",
            "Before 6\n",
            "Afterwards 6\n",
            "5\n"
          ]
        }
      ],
      "source": [
        "x = 5\n",
        "print('Before 5')\n",
        "if  x == 5 :\n",
        "    print('Is 5')\n",
        "    print('Is Still 5')\n",
        "    print('Third 5')\n",
        "print('Afterwards 5')\n",
        "print('Before 6')\n",
        "if x == 6 :\n",
        "    print('Is 6')\n",
        "    print('Is Still 6')\n",
        "    print('Third 6')\n",
        "print('Afterwards 6')\n",
        "print(x)"
      ]
    },
    {
      "cell_type": "code",
      "execution_count": null,
      "metadata": {
        "colab": {
          "base_uri": "https://localhost:8080/"
        },
        "id": "wJtB_T3Ooory",
        "outputId": "8eab8b5b-54a9-45b4-94f5-c4d06a0e62c6"
      },
      "outputs": [
        {
          "output_type": "stream",
          "name": "stdout",
          "text": [
            "5\n"
          ]
        }
      ],
      "source": [
        "print(x)"
      ]
    },
    {
      "cell_type": "code",
      "execution_count": null,
      "metadata": {
        "colab": {
          "base_uri": "https://localhost:8080/"
        },
        "id": "GKIA0C65SGkP",
        "outputId": "02a6a42b-7ee4-4d16-e73c-adbda0b50eb0"
      },
      "outputs": [
        {
          "output_type": "stream",
          "name": "stdout",
          "text": [
            "Medium\n",
            "All done\n",
            "5\n"
          ]
        }
      ],
      "source": [
        "if x < 2 :\n",
        "    print('small')\n",
        "elif x < 10 :\n",
        "    print('Medium')\n",
        "else :\n",
        "    print('LARGE')\n",
        "print('All done')\n",
        "print(x)"
      ]
    },
    {
      "cell_type": "code",
      "execution_count": null,
      "metadata": {
        "colab": {
          "base_uri": "https://localhost:8080/"
        },
        "id": "bGh7ckATX8-L",
        "outputId": "82fc4e2e-e90c-4d94-c795-2f3af46db947"
      },
      "outputs": [
        {
          "output_type": "stream",
          "name": "stdout",
          "text": [
            "Medium\n",
            "5\n"
          ]
        }
      ],
      "source": [
        "# One line for a condition\n",
        "print('small' if x < 2 else 'Medium' if x < 10 else 'LARGE')\n",
        "print(x)"
      ]
    },
    {
      "cell_type": "markdown",
      "metadata": {
        "id": "WgMmCOklSGkS"
      },
      "source": [
        "### While Loop"
      ]
    },
    {
      "cell_type": "code",
      "execution_count": null,
      "metadata": {
        "colab": {
          "base_uri": "https://localhost:8080/"
        },
        "id": "GfAEzoHF19EE",
        "outputId": "159741b5-2631-4597-88c7-d5beda36d835"
      },
      "outputs": [
        {
          "output_type": "stream",
          "name": "stdout",
          "text": [
            "Start Count Down !\n",
            "5\n",
            "4.5\n",
            "4.0\n",
            "3.5\n",
            "3.0\n",
            "2.5\n",
            "2.0\n",
            "1.5\n",
            "1.0\n",
            "0.5\n",
            "0.0\n",
            "Boom !!!\n"
          ]
        }
      ],
      "source": [
        "# Countdown Player\n",
        "import time\n",
        "sec = 5\n",
        "\n",
        "print('Start Count Down !')\n",
        "while sec >= 0:\n",
        "    print(sec)\n",
        "    if sec == 0:\n",
        "        break\n",
        "    sec -= 0.5\n",
        "\n",
        "print('Boom !!!')"
      ]
    },
    {
      "cell_type": "code",
      "execution_count": null,
      "metadata": {
        "colab": {
          "base_uri": "https://localhost:8080/"
        },
        "id": "bVKWb2ALSGkS",
        "outputId": "0285b49f-5f52-4dfc-b0c5-38a20e7e9751"
      },
      "outputs": [
        {
          "output_type": "stream",
          "name": "stdout",
          "text": [
            "> 1\n",
            "appended 1\n",
            "> 2\n",
            "appended 2\n",
            "> 3\n",
            "appended 3\n",
            "> done\n",
            "Done!\n",
            "['1', '2', '3']\n"
          ]
        }
      ],
      "source": [
        "1# Temperory Editor\n",
        "lines_saved = [] # List, will be taught in Week 3\n",
        "\n",
        "while True:\n",
        "    line = input('> ')\n",
        "    if line[0] == '#' :\n",
        "        continue\n",
        "    if line == 'done' :\n",
        "        break\n",
        "    lines_saved.append(line) # List, will be taught in Week 3\n",
        "    print(f'appended {line}')\n",
        "\n",
        "print('Done!')\n",
        "print(lines_saved)"
      ]
    },
    {
      "cell_type": "markdown",
      "metadata": {
        "id": "O0f5E2-mSGkX"
      },
      "source": [
        "\n",
        "### For Loop"
      ]
    },
    {
      "cell_type": "code",
      "execution_count": null,
      "metadata": {
        "id": "q_MvJPg3SGkY",
        "colab": {
          "base_uri": "https://localhost:8080/"
        },
        "outputId": "c4189579-b357-4870-8edb-eb2a77ed5b7e"
      },
      "outputs": [
        {
          "output_type": "stream",
          "name": "stdout",
          "text": [
            "Happy Ghost festival, Yuanyuan !!!\n",
            "Happy Ghost festival, Ben !!!\n",
            "Happy Ghost festival, Michael !!!\n",
            "Happy Ghost festival, Tony !!!\n",
            "Happy Ghost festival, Keith !!!\n",
            "Happy Ghost festival, Yau !!!\n",
            "Done!\n"
          ]
        }
      ],
      "source": [
        "# Dynamic EMail Sender\n",
        "professors = ['Yuanyuan', 'Ben', 'Michael', 'Tony', 'Keith', 'Yau']\n",
        "\n",
        "# import win32com.client as win32\n",
        "# outlook = win32.Dispatch('outlook.application')\n",
        "for professor in professors :\n",
        "    # mail = outlook.CreateItem(0)\n",
        "    # mail.To = f'{professor}@sta.cuhk.edu.hk'\n",
        "    # mail.Subject = f'Happy Ghost festival !!!'\n",
        "    body = f'Happy Ghost festival, {professor} !!!'\n",
        "    print(body)\n",
        "    # mail.Body = body\n",
        "    # mail.Send()\n",
        "print('Done!')"
      ]
    },
    {
      "cell_type": "code",
      "execution_count": null,
      "metadata": {
        "id": "uBqFV1s6VDSh",
        "colab": {
          "base_uri": "https://localhost:8080/"
        },
        "outputId": "7adbb660-44ef-4f6d-9f3b-aa6e91e2d90c"
      },
      "outputs": [
        {
          "output_type": "stream",
          "name": "stdout",
          "text": [
            "Before -1\n",
            "9 9\n",
            "41 41\n",
            "41 12\n",
            "41 3\n",
            "74 74\n",
            "74 15\n",
            "After 74\n"
          ]
        }
      ],
      "source": [
        "# Find the largest value by for loop\n",
        "largest_so_far = -1\n",
        "print('Before', largest_so_far)\n",
        "for the_num in [9, 41, 12, 3, 74, 15] :\n",
        "    if the_num > largest_so_far :\n",
        "        largest_so_far = the_num\n",
        "    print(largest_so_far, the_num)\n",
        "print('After', largest_so_far)"
      ]
    },
    {
      "cell_type": "markdown",
      "metadata": {
        "id": "5Syr7DoxSGme"
      },
      "source": [
        "### Simple Files IO"
      ]
    },
    {
      "cell_type": "code",
      "execution_count": null,
      "metadata": {
        "id": "dLTf2BO-SGmh"
      },
      "outputs": [],
      "source": [
        "# Write a file\n",
        "file = open(\"testing.txt\",\"w\")\n",
        "file.write(\"Hello World\\n\")\n",
        "file.write(\"This is a Python Programming class\\n\")\n",
        "file.write(\"Happy coding.\\n\")\n",
        "file.write(\"Cheers, Alan.\\n\")\n",
        "file.close()"
      ]
    },
    {
      "cell_type": "code",
      "execution_count": null,
      "metadata": {
        "id": "dJ7mowtGb8ec",
        "colab": {
          "base_uri": "https://localhost:8080/",
          "height": 180
        },
        "outputId": "fe71f95a-7cbc-4e66-8fec-bf46e7585361"
      },
      "outputs": [
        {
          "output_type": "error",
          "ename": "FileNotFoundError",
          "evalue": "[Errno 2] No such file or directory: 'welcome.txt'",
          "traceback": [
            "\u001b[0;31m---------------------------------------------------------------------------\u001b[0m",
            "\u001b[0;31mFileNotFoundError\u001b[0m                         Traceback (most recent call last)",
            "\u001b[0;32m/tmp/ipython-input-579195235.py\u001b[0m in \u001b[0;36m<cell line: 0>\u001b[0;34m()\u001b[0m\n\u001b[1;32m      1\u001b[0m \u001b[0;31m# please place welcome.txt before running this code\u001b[0m\u001b[0;34m\u001b[0m\u001b[0;34m\u001b[0m\u001b[0m\n\u001b[0;32m----> 2\u001b[0;31m \u001b[0mhandle\u001b[0m \u001b[0;34m=\u001b[0m \u001b[0mopen\u001b[0m\u001b[0;34m(\u001b[0m\u001b[0;34m'welcome.txt'\u001b[0m\u001b[0;34m)\u001b[0m\u001b[0;34m\u001b[0m\u001b[0;34m\u001b[0m\u001b[0m\n\u001b[0m\u001b[1;32m      3\u001b[0m \u001b[0mprint\u001b[0m\u001b[0;34m(\u001b[0m\u001b[0mhandle\u001b[0m\u001b[0;34m)\u001b[0m\u001b[0;34m\u001b[0m\u001b[0;34m\u001b[0m\u001b[0m\n",
            "\u001b[0;31mFileNotFoundError\u001b[0m: [Errno 2] No such file or directory: 'welcome.txt'"
          ]
        }
      ],
      "source": [
        "# please place welcome.txt before running this code\n",
        "handle = open('welcome.txt')\n",
        "print(handle)"
      ]
    },
    {
      "cell_type": "code",
      "execution_count": null,
      "metadata": {
        "id": "F1bRUtnwcEdL",
        "colab": {
          "base_uri": "https://localhost:8080/",
          "height": 162
        },
        "outputId": "7f5fe9da-73bc-446f-84c1-5770de8b6a96"
      },
      "outputs": [
        {
          "output_type": "error",
          "ename": "FileNotFoundError",
          "evalue": "[Errno 2] No such file or directory: 'goodbye.txt'",
          "traceback": [
            "\u001b[0;31m---------------------------------------------------------------------------\u001b[0m",
            "\u001b[0;31mFileNotFoundError\u001b[0m                         Traceback (most recent call last)",
            "\u001b[0;32m/tmp/ipython-input-2013575661.py\u001b[0m in \u001b[0;36m<cell line: 0>\u001b[0;34m()\u001b[0m\n\u001b[1;32m      1\u001b[0m \u001b[0;31m# Otherwise you will get error\u001b[0m\u001b[0;34m\u001b[0m\u001b[0;34m\u001b[0m\u001b[0m\n\u001b[0;32m----> 2\u001b[0;31m \u001b[0mhandle2\u001b[0m \u001b[0;34m=\u001b[0m \u001b[0mopen\u001b[0m\u001b[0;34m(\u001b[0m\u001b[0;34m'goodbye.txt'\u001b[0m\u001b[0;34m)\u001b[0m\u001b[0;34m\u001b[0m\u001b[0;34m\u001b[0m\u001b[0m\n\u001b[0m",
            "\u001b[0;31mFileNotFoundError\u001b[0m: [Errno 2] No such file or directory: 'goodbye.txt'"
          ]
        }
      ],
      "source": [
        "# Otherwise you will get error\n",
        "handle2 = open('goodbye.txt')"
      ]
    },
    {
      "cell_type": "code",
      "execution_count": null,
      "metadata": {
        "id": "VoYaW8QUcJ0c",
        "colab": {
          "base_uri": "https://localhost:8080/"
        },
        "outputId": "03fe7258-32aa-49b2-a6f0-abd833870176"
      },
      "outputs": [
        {
          "output_type": "stream",
          "name": "stdout",
          "text": [
            "Hello\n",
            "World!\n",
            "12\n"
          ]
        }
      ],
      "source": [
        "# length of string includes \\n and !\n",
        "stuff = 'Hello\\nWorld!'\n",
        "print(stuff)\n",
        "print(len(stuff))"
      ]
    },
    {
      "cell_type": "code",
      "execution_count": null,
      "metadata": {
        "id": "U98YejZ6cZI7",
        "colab": {
          "base_uri": "https://localhost:8080/",
          "height": 180
        },
        "outputId": "6b974d8d-0bcf-4b30-e0fc-c5c68cea1e74"
      },
      "outputs": [
        {
          "output_type": "error",
          "ename": "NameError",
          "evalue": "name 'handle' is not defined",
          "traceback": [
            "\u001b[0;31m---------------------------------------------------------------------------\u001b[0m",
            "\u001b[0;31mNameError\u001b[0m                                 Traceback (most recent call last)",
            "\u001b[0;32m/tmp/ipython-input-318580000.py\u001b[0m in \u001b[0;36m<cell line: 0>\u001b[0;34m()\u001b[0m\n\u001b[1;32m      1\u001b[0m \u001b[0;31m# print for each line\u001b[0m\u001b[0;34m\u001b[0m\u001b[0;34m\u001b[0m\u001b[0m\n\u001b[0;32m----> 2\u001b[0;31m \u001b[0;32mfor\u001b[0m \u001b[0mline\u001b[0m \u001b[0;32min\u001b[0m \u001b[0mhandle\u001b[0m\u001b[0;34m:\u001b[0m\u001b[0;34m\u001b[0m\u001b[0;34m\u001b[0m\u001b[0m\n\u001b[0m\u001b[1;32m      3\u001b[0m     \u001b[0mprint\u001b[0m\u001b[0;34m(\u001b[0m\u001b[0mline\u001b[0m\u001b[0;34m)\u001b[0m\u001b[0;34m\u001b[0m\u001b[0;34m\u001b[0m\u001b[0m\n",
            "\u001b[0;31mNameError\u001b[0m: name 'handle' is not defined"
          ]
        }
      ],
      "source": [
        "# print for each line\n",
        "for line in handle:\n",
        "    print(line)"
      ]
    },
    {
      "cell_type": "code",
      "execution_count": null,
      "metadata": {
        "id": "tH7NugMvcfr5",
        "colab": {
          "base_uri": "https://localhost:8080/",
          "height": 216
        },
        "outputId": "88ebed91-46f4-4e4f-9cf0-6f8915d00a2d"
      },
      "outputs": [
        {
          "output_type": "error",
          "ename": "FileNotFoundError",
          "evalue": "[Errno 2] No such file or directory: 'welcome.txt'",
          "traceback": [
            "\u001b[0;31m---------------------------------------------------------------------------\u001b[0m",
            "\u001b[0;31mFileNotFoundError\u001b[0m                         Traceback (most recent call last)",
            "\u001b[0;32m/tmp/ipython-input-722934845.py\u001b[0m in \u001b[0;36m<cell line: 0>\u001b[0;34m()\u001b[0m\n\u001b[1;32m      1\u001b[0m \u001b[0;31m# or read all the lines\u001b[0m\u001b[0;34m\u001b[0m\u001b[0;34m\u001b[0m\u001b[0m\n\u001b[0;32m----> 2\u001b[0;31m \u001b[0mhandle\u001b[0m \u001b[0;34m=\u001b[0m \u001b[0mopen\u001b[0m\u001b[0;34m(\u001b[0m\u001b[0;34m'welcome.txt'\u001b[0m\u001b[0;34m)\u001b[0m\u001b[0;34m\u001b[0m\u001b[0;34m\u001b[0m\u001b[0m\n\u001b[0m\u001b[1;32m      3\u001b[0m \u001b[0mlines\u001b[0m \u001b[0;34m=\u001b[0m \u001b[0mhandle\u001b[0m\u001b[0;34m.\u001b[0m\u001b[0mread\u001b[0m\u001b[0;34m(\u001b[0m\u001b[0;34m)\u001b[0m\u001b[0;34m\u001b[0m\u001b[0;34m\u001b[0m\u001b[0m\n\u001b[1;32m      4\u001b[0m \u001b[0mprint\u001b[0m\u001b[0;34m(\u001b[0m\u001b[0mlen\u001b[0m\u001b[0;34m(\u001b[0m\u001b[0mlines\u001b[0m\u001b[0;34m)\u001b[0m\u001b[0;34m)\u001b[0m\u001b[0;34m\u001b[0m\u001b[0;34m\u001b[0m\u001b[0m\n\u001b[1;32m      5\u001b[0m \u001b[0mhandle\u001b[0m\u001b[0;34m.\u001b[0m\u001b[0mclose\u001b[0m\u001b[0;34m(\u001b[0m\u001b[0;34m)\u001b[0m\u001b[0;34m\u001b[0m\u001b[0;34m\u001b[0m\u001b[0m\n",
            "\u001b[0;31mFileNotFoundError\u001b[0m: [Errno 2] No such file or directory: 'welcome.txt'"
          ]
        }
      ],
      "source": [
        "# or read all the lines\n",
        "handle = open('welcome.txt')\n",
        "lines = handle.read()\n",
        "print(len(lines))\n",
        "handle.close()"
      ]
    },
    {
      "cell_type": "code",
      "execution_count": null,
      "metadata": {
        "id": "LxqlhmG8cufJ"
      },
      "outputs": [],
      "source": [
        "# remember to close the file after using this\n",
        "handle.close()"
      ]
    },
    {
      "cell_type": "code",
      "execution_count": null,
      "metadata": {
        "id": "WfVdDkcVbzNa"
      },
      "outputs": [],
      "source": []
    },
    {
      "cell_type": "code",
      "execution_count": null,
      "metadata": {
        "id": "fb8bcc17",
        "colab": {
          "base_uri": "https://localhost:8080/"
        },
        "outputId": "73a77ee3-c8c8-467d-c377-22435580aa94"
      },
      "outputs": [
        {
          "output_type": "stream",
          "name": "stdout",
          "text": [
            "hello there\n"
          ]
        }
      ],
      "source": [
        "# string \"+\"\n",
        "str_add = 'hello ' + 'there'\n",
        "print(str_add)"
      ]
    },
    {
      "cell_type": "code",
      "execution_count": null,
      "metadata": {
        "id": "70796621",
        "colab": {
          "base_uri": "https://localhost:8080/",
          "height": 162
        },
        "outputId": "f7652e63-96d2-468d-f15a-78f7efacd002"
      },
      "outputs": [
        {
          "output_type": "error",
          "ename": "TypeError",
          "evalue": "can only concatenate str (not \"int\") to str",
          "traceback": [
            "\u001b[0;31m---------------------------------------------------------------------------\u001b[0m",
            "\u001b[0;31mTypeError\u001b[0m                                 Traceback (most recent call last)",
            "\u001b[0;32m/tmp/ipython-input-1512955267.py\u001b[0m in \u001b[0;36m<cell line: 0>\u001b[0;34m()\u001b[0m\n\u001b[1;32m      1\u001b[0m \u001b[0;31m# Error - you cannot add an integer to a string directly\u001b[0m\u001b[0;34m\u001b[0m\u001b[0;34m\u001b[0m\u001b[0m\n\u001b[0;32m----> 2\u001b[0;31m \u001b[0mstr_add\u001b[0m \u001b[0;34m=\u001b[0m \u001b[0mstr_add\u001b[0m \u001b[0;34m+\u001b[0m \u001b[0;36m1\u001b[0m\u001b[0;34m\u001b[0m\u001b[0;34m\u001b[0m\u001b[0m\n\u001b[0m",
            "\u001b[0;31mTypeError\u001b[0m: can only concatenate str (not \"int\") to str"
          ]
        }
      ],
      "source": [
        "# Error - you cannot add an integer to a string directly\n",
        "str_add = str_add + 1"
      ]
    }
  ],
  "metadata": {
    "colab": {
      "provenance": [],
      "toc_visible": true
    },
    "kernelspec": {
      "display_name": "Python 3",
      "language": "python",
      "name": "python3"
    },
    "language_info": {
      "codemirror_mode": {
        "name": "ipython",
        "version": 3
      },
      "file_extension": ".py",
      "mimetype": "text/x-python",
      "name": "python",
      "nbconvert_exporter": "python",
      "pygments_lexer": "ipython3",
      "version": "3.6.9"
    }
  },
  "nbformat": 4,
  "nbformat_minor": 0
}
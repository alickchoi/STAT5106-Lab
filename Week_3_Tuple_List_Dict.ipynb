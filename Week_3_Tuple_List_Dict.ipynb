{
  "nbformat": 4,
  "nbformat_minor": 0,
  "metadata": {
    "kernelspec": {
      "display_name": "Python 3",
      "language": "python",
      "name": "python3"
    },
    "language_info": {
      "codemirror_mode": {
        "name": "ipython",
        "version": 3
      },
      "file_extension": ".py",
      "mimetype": "text/x-python",
      "name": "python",
      "nbconvert_exporter": "python",
      "pygments_lexer": "ipython3",
      "version": "3.6.9"
    },
    "colab": {
      "provenance": [],
      "include_colab_link": true
    }
  },
  "cells": [
    {
      "cell_type": "markdown",
      "metadata": {
        "id": "view-in-github",
        "colab_type": "text"
      },
      "source": [
        "<a href=\"https://colab.research.google.com/github/alickchoi/STAT5106-Lab/blob/main/Week_3_Tuple_List_Dict.ipynb\" target=\"_parent\"><img src=\"https://colab.research.google.com/assets/colab-badge.svg\" alt=\"Open In Colab\"/></a>"
      ]
    },
    {
      "cell_type": "markdown",
      "metadata": {
        "id": "mJXg0Eq4RYtZ"
      },
      "source": [
        "# List"
      ]
    },
    {
      "cell_type": "code",
      "metadata": {
        "id": "sUZObESiSAym",
        "colab": {
          "base_uri": "https://localhost:8080/"
        },
        "outputId": "8f7225cf-a541-44fc-b272-9191e7741eb5"
      },
      "source": [
        "# You can put the same things together, just like a potato chips jar\n",
        "print([1, 24, 76])\n",
        "print(['red', 'yellow', 'blue'])"
      ],
      "execution_count": null,
      "outputs": [
        {
          "output_type": "stream",
          "name": "stdout",
          "text": [
            "[1, 24, 76]\n",
            "['red', 'yellow', 'blue']\n"
          ]
        }
      ]
    },
    {
      "cell_type": "code",
      "metadata": {
        "id": "ypXDxnT3RYtc",
        "colab": {
          "base_uri": "https://localhost:8080/"
        },
        "outputId": "241f6c33-73b0-480f-fade-b13d0cb40763"
      },
      "source": [
        "# Also you can put different things together\n",
        "print(['red', 24, 98.6])\n",
        "print([ 1, [5, 6], 7])"
      ],
      "execution_count": null,
      "outputs": [
        {
          "output_type": "stream",
          "name": "stdout",
          "text": [
            "['red', 24, 98.6]\n",
            "[1, [5, 6], 7]\n"
          ]
        }
      ]
    },
    {
      "cell_type": "code",
      "metadata": {
        "id": "iZ5EmHe4SUvZ",
        "colab": {
          "base_uri": "https://localhost:8080/"
        },
        "outputId": "11b4e230-642c-4436-85cb-92ad911556eb"
      },
      "source": [
        "# Empty List\n",
        "print([])"
      ],
      "execution_count": null,
      "outputs": [
        {
          "output_type": "stream",
          "name": "stdout",
          "text": [
            "[]\n"
          ]
        }
      ]
    },
    {
      "cell_type": "code",
      "metadata": {
        "id": "fMOJ8v1ASgLX",
        "colab": {
          "base_uri": "https://localhost:8080/"
        },
        "outputId": "0b994e20-17ef-483f-c6ef-1b1e97875414"
      },
      "source": [
        "# The for-loop example in lesson 1\n",
        "# Dynamic EMail Sender\n",
        "professors = ['Ben', 'Michael', 'Tony', 'Keith', 'Yau']\n",
        "\n",
        "# import win32com.client as win32\n",
        "# outlook = win32.Dispatch('outlook.application')\n",
        "for professor in professors :\n",
        "    # mail = outlook.CreateItem(0)\n",
        "    # mail.To = f'{professor}@sta.cuhk.edu.hk'\n",
        "    # mail.Subject = f'Happy Mooncake festival !!!'\n",
        "    body = f'Happy Mooncake festival, {professor} !!!'\n",
        "    print(body)\n",
        "    # mail.Body = body\n",
        "    # mail.Send()\n",
        "print('Done!')"
      ],
      "execution_count": null,
      "outputs": [
        {
          "output_type": "stream",
          "name": "stdout",
          "text": [
            "Happy Mooncake festival, Ben !!!\n",
            "Happy Mooncake festival, Michael !!!\n",
            "Happy Mooncake festival, Tony !!!\n",
            "Happy Mooncake festival, Keith !!!\n",
            "Happy Mooncake festival, Yau !!!\n",
            "Done!\n"
          ]
        }
      ]
    },
    {
      "cell_type": "code",
      "source": [
        "print(professors[1])\n",
        "print(len(professors))\n",
        "print(range(len(professors)))\n",
        "\n",
        "# You can use index i to loop the list\n",
        "for i in range(len(professors)):\n",
        "    body = f'Happy Mooncake festival, {professors[i]} !!!'\n",
        "    print(body)"
      ],
      "metadata": {
        "id": "e6xZ3VzMYYfK",
        "colab": {
          "base_uri": "https://localhost:8080/"
        },
        "outputId": "79bca2eb-f9b5-497d-b4d2-6fedb705edb3"
      },
      "execution_count": null,
      "outputs": [
        {
          "output_type": "stream",
          "name": "stdout",
          "text": [
            "Michael\n",
            "5\n",
            "range(0, 5)\n",
            "Happy Mooncake festival, Ben !!!\n",
            "Happy Mooncake festival, Michael !!!\n",
            "Happy Mooncake festival, Tony !!!\n",
            "Happy Mooncake festival, Keith !!!\n",
            "Happy Mooncake festival, Yau !!!\n"
          ]
        }
      ]
    },
    {
      "cell_type": "code",
      "source": [
        "from google.colab import drive\n",
        "drive.mount('/content/drive')"
      ],
      "metadata": {
        "id": "-WeMT5w6hBGK",
        "colab": {
          "base_uri": "https://localhost:8080/",
          "height": 304
        },
        "outputId": "ecd880fb-d8b0-4d35-e93e-28ed43ce9b06"
      },
      "execution_count": null,
      "outputs": [
        {
          "output_type": "error",
          "ename": "MessageError",
          "evalue": "Error: credential propagation was unsuccessful",
          "traceback": [
            "\u001b[0;31m---------------------------------------------------------------------------\u001b[0m",
            "\u001b[0;31mMessageError\u001b[0m                              Traceback (most recent call last)",
            "\u001b[0;32m/tmp/ipython-input-1408506528.py\u001b[0m in \u001b[0;36m<cell line: 0>\u001b[0;34m()\u001b[0m\n\u001b[1;32m      1\u001b[0m \u001b[0;32mfrom\u001b[0m \u001b[0mgoogle\u001b[0m\u001b[0;34m.\u001b[0m\u001b[0mcolab\u001b[0m \u001b[0;32mimport\u001b[0m \u001b[0mdrive\u001b[0m\u001b[0;34m\u001b[0m\u001b[0;34m\u001b[0m\u001b[0m\n\u001b[0;32m----> 2\u001b[0;31m \u001b[0mdrive\u001b[0m\u001b[0;34m.\u001b[0m\u001b[0mmount\u001b[0m\u001b[0;34m(\u001b[0m\u001b[0;34m'/content/drive'\u001b[0m\u001b[0;34m)\u001b[0m\u001b[0;34m\u001b[0m\u001b[0;34m\u001b[0m\u001b[0m\n\u001b[0m",
            "\u001b[0;32m/usr/local/lib/python3.12/dist-packages/google/colab/drive.py\u001b[0m in \u001b[0;36mmount\u001b[0;34m(mountpoint, force_remount, timeout_ms, readonly)\u001b[0m\n\u001b[1;32m     95\u001b[0m \u001b[0;32mdef\u001b[0m \u001b[0mmount\u001b[0m\u001b[0;34m(\u001b[0m\u001b[0mmountpoint\u001b[0m\u001b[0;34m,\u001b[0m \u001b[0mforce_remount\u001b[0m\u001b[0;34m=\u001b[0m\u001b[0;32mFalse\u001b[0m\u001b[0;34m,\u001b[0m \u001b[0mtimeout_ms\u001b[0m\u001b[0;34m=\u001b[0m\u001b[0;36m120000\u001b[0m\u001b[0;34m,\u001b[0m \u001b[0mreadonly\u001b[0m\u001b[0;34m=\u001b[0m\u001b[0;32mFalse\u001b[0m\u001b[0;34m)\u001b[0m\u001b[0;34m:\u001b[0m\u001b[0;34m\u001b[0m\u001b[0;34m\u001b[0m\u001b[0m\n\u001b[1;32m     96\u001b[0m   \u001b[0;34m\"\"\"Mount your Google Drive at the specified mountpoint path.\"\"\"\u001b[0m\u001b[0;34m\u001b[0m\u001b[0;34m\u001b[0m\u001b[0m\n\u001b[0;32m---> 97\u001b[0;31m   return _mount(\n\u001b[0m\u001b[1;32m     98\u001b[0m       \u001b[0mmountpoint\u001b[0m\u001b[0;34m,\u001b[0m\u001b[0;34m\u001b[0m\u001b[0;34m\u001b[0m\u001b[0m\n\u001b[1;32m     99\u001b[0m       \u001b[0mforce_remount\u001b[0m\u001b[0;34m=\u001b[0m\u001b[0mforce_remount\u001b[0m\u001b[0;34m,\u001b[0m\u001b[0;34m\u001b[0m\u001b[0;34m\u001b[0m\u001b[0m\n",
            "\u001b[0;32m/usr/local/lib/python3.12/dist-packages/google/colab/drive.py\u001b[0m in \u001b[0;36m_mount\u001b[0;34m(mountpoint, force_remount, timeout_ms, ephemeral, readonly)\u001b[0m\n\u001b[1;32m    132\u001b[0m   )\n\u001b[1;32m    133\u001b[0m   \u001b[0;32mif\u001b[0m \u001b[0mephemeral\u001b[0m\u001b[0;34m:\u001b[0m\u001b[0;34m\u001b[0m\u001b[0;34m\u001b[0m\u001b[0m\n\u001b[0;32m--> 134\u001b[0;31m     _message.blocking_request(\n\u001b[0m\u001b[1;32m    135\u001b[0m         \u001b[0;34m'request_auth'\u001b[0m\u001b[0;34m,\u001b[0m\u001b[0;34m\u001b[0m\u001b[0;34m\u001b[0m\u001b[0m\n\u001b[1;32m    136\u001b[0m         \u001b[0mrequest\u001b[0m\u001b[0;34m=\u001b[0m\u001b[0;34m{\u001b[0m\u001b[0;34m'authType'\u001b[0m\u001b[0;34m:\u001b[0m \u001b[0;34m'dfs_ephemeral'\u001b[0m\u001b[0;34m}\u001b[0m\u001b[0;34m,\u001b[0m\u001b[0;34m\u001b[0m\u001b[0;34m\u001b[0m\u001b[0m\n",
            "\u001b[0;32m/usr/local/lib/python3.12/dist-packages/google/colab/_message.py\u001b[0m in \u001b[0;36mblocking_request\u001b[0;34m(request_type, request, timeout_sec, parent)\u001b[0m\n\u001b[1;32m    174\u001b[0m       \u001b[0mrequest_type\u001b[0m\u001b[0;34m,\u001b[0m \u001b[0mrequest\u001b[0m\u001b[0;34m,\u001b[0m \u001b[0mparent\u001b[0m\u001b[0;34m=\u001b[0m\u001b[0mparent\u001b[0m\u001b[0;34m,\u001b[0m \u001b[0mexpect_reply\u001b[0m\u001b[0;34m=\u001b[0m\u001b[0;32mTrue\u001b[0m\u001b[0;34m\u001b[0m\u001b[0;34m\u001b[0m\u001b[0m\n\u001b[1;32m    175\u001b[0m   )\n\u001b[0;32m--> 176\u001b[0;31m   \u001b[0;32mreturn\u001b[0m \u001b[0mread_reply_from_input\u001b[0m\u001b[0;34m(\u001b[0m\u001b[0mrequest_id\u001b[0m\u001b[0;34m,\u001b[0m \u001b[0mtimeout_sec\u001b[0m\u001b[0;34m)\u001b[0m\u001b[0;34m\u001b[0m\u001b[0;34m\u001b[0m\u001b[0m\n\u001b[0m",
            "\u001b[0;32m/usr/local/lib/python3.12/dist-packages/google/colab/_message.py\u001b[0m in \u001b[0;36mread_reply_from_input\u001b[0;34m(message_id, timeout_sec)\u001b[0m\n\u001b[1;32m    101\u001b[0m     ):\n\u001b[1;32m    102\u001b[0m       \u001b[0;32mif\u001b[0m \u001b[0;34m'error'\u001b[0m \u001b[0;32min\u001b[0m \u001b[0mreply\u001b[0m\u001b[0;34m:\u001b[0m\u001b[0;34m\u001b[0m\u001b[0;34m\u001b[0m\u001b[0m\n\u001b[0;32m--> 103\u001b[0;31m         \u001b[0;32mraise\u001b[0m \u001b[0mMessageError\u001b[0m\u001b[0;34m(\u001b[0m\u001b[0mreply\u001b[0m\u001b[0;34m[\u001b[0m\u001b[0;34m'error'\u001b[0m\u001b[0;34m]\u001b[0m\u001b[0;34m)\u001b[0m\u001b[0;34m\u001b[0m\u001b[0;34m\u001b[0m\u001b[0m\n\u001b[0m\u001b[1;32m    104\u001b[0m       \u001b[0;32mreturn\u001b[0m \u001b[0mreply\u001b[0m\u001b[0;34m.\u001b[0m\u001b[0mget\u001b[0m\u001b[0;34m(\u001b[0m\u001b[0;34m'data'\u001b[0m\u001b[0;34m,\u001b[0m \u001b[0;32mNone\u001b[0m\u001b[0;34m)\u001b[0m\u001b[0;34m\u001b[0m\u001b[0;34m\u001b[0m\u001b[0m\n\u001b[1;32m    105\u001b[0m \u001b[0;34m\u001b[0m\u001b[0m\n",
            "\u001b[0;31mMessageError\u001b[0m: Error: credential propagation was unsuccessful"
          ]
        }
      ]
    },
    {
      "cell_type": "markdown",
      "metadata": {
        "id": "YB7JTypwS3h1"
      },
      "source": [
        "### Some built-in functions for list"
      ]
    },
    {
      "cell_type": "code",
      "metadata": {
        "id": "JMX8Qvc4S1m3",
        "colab": {
          "base_uri": "https://localhost:8080/"
        },
        "outputId": "bb2d27d3-7c1a-400a-ef5e-c85e07e0c60b"
      },
      "source": [
        "# List sorting\n",
        "professors.sort()\n",
        "print(professors)\n",
        "\n",
        "a = professors.sort()\n",
        "print(a)\n"
      ],
      "execution_count": null,
      "outputs": [
        {
          "output_type": "stream",
          "name": "stdout",
          "text": [
            "['Ben', 'Keith', 'Michael', 'Tony', 'Yau']\n",
            "None\n"
          ]
        }
      ]
    },
    {
      "cell_type": "code",
      "metadata": {
        "id": "sMZXjYH-RYte",
        "colab": {
          "base_uri": "https://localhost:8080/"
        },
        "outputId": "43cf580b-3496-4711-a423-5b1d858da91e"
      },
      "source": [
        "# List reverse\n",
        "professors.reverse()\n",
        "print(professors)"
      ],
      "execution_count": null,
      "outputs": [
        {
          "output_type": "stream",
          "name": "stdout",
          "text": [
            "['Yau', 'Tony', 'Michael', 'Keith', 'Ben']\n"
          ]
        }
      ]
    },
    {
      "cell_type": "code",
      "metadata": {
        "id": "JF94yb6gRYte",
        "colab": {
          "base_uri": "https://localhost:8080/"
        },
        "outputId": "3ebf6f9c-83e2-42d3-b0e7-7bce643856d8"
      },
      "source": [
        "# List Concatenation\n",
        "a = [1, 2, 3]\n",
        "b = [4, 5, 6]\n",
        "c = a + b\n",
        "print(c)"
      ],
      "execution_count": null,
      "outputs": [
        {
          "output_type": "stream",
          "name": "stdout",
          "text": [
            "[1, 2, 3, 4, 5, 6]\n"
          ]
        }
      ]
    },
    {
      "cell_type": "code",
      "source": [
        "# Note: if you want vector addition\n",
        "import numpy as np\n",
        "vec_a = np.array([1,2,3])\n",
        "vec_b = np.array([4,5,6])\n",
        "vec_c = vec_a + vec_b\n",
        "print(vec_c)"
      ],
      "metadata": {
        "id": "-SeNCIpPDXiB",
        "colab": {
          "base_uri": "https://localhost:8080/"
        },
        "outputId": "d0d0f2a1-f114-4c6b-ac8e-d75c3c8bf442"
      },
      "execution_count": null,
      "outputs": [
        {
          "output_type": "stream",
          "name": "stdout",
          "text": [
            "[5 7 9]\n"
          ]
        }
      ]
    },
    {
      "cell_type": "code",
      "metadata": {
        "id": "257yzMsGRYte",
        "colab": {
          "base_uri": "https://localhost:8080/"
        },
        "outputId": "9a8688a1-2a1b-405a-ce7b-90a839d8aa11"
      },
      "source": [
        "# List Slicing\n",
        "t = [9, 41, 12, 3, 74, 15]\n",
        "print(t[1:3])\n",
        "print(t[:4])\n",
        "print(t[3:])\n",
        "print(t[:])\n",
        "print(len(t), max(t), min(t), sum(t), sum(t)/len(t))"
      ],
      "execution_count": null,
      "outputs": [
        {
          "output_type": "stream",
          "name": "stdout",
          "text": [
            "[41, 12]\n",
            "[9, 41, 12, 3]\n",
            "[3, 74, 15]\n",
            "[9, 41, 12, 3, 74, 15]\n",
            "6 74 3 154 25.666666666666668\n"
          ]
        }
      ]
    },
    {
      "cell_type": "code",
      "metadata": {
        "id": "QJv0YtCrRYtf",
        "colab": {
          "base_uri": "https://localhost:8080/"
        },
        "outputId": "b3320897-3015-4a09-e7fc-13501fa7abbc"
      },
      "source": [
        "# List as a container\n",
        "my_gucci = []\n",
        "# or my_gucci = list()\n",
        "my_gucci.append('wallet')\n",
        "my_gucci.append(400)\n",
        "print(my_gucci)\n",
        "my_gucci.append(['octopus', 100])\n",
        "print(my_gucci)\n",
        "\n"
      ],
      "execution_count": null,
      "outputs": [
        {
          "output_type": "stream",
          "name": "stdout",
          "text": [
            "['wallet', 400]\n",
            "['wallet', 400, ['octopus', 100]]\n"
          ]
        }
      ]
    },
    {
      "cell_type": "code",
      "metadata": {
        "id": "wRIwSs9bDpgp",
        "colab": {
          "base_uri": "https://localhost:8080/"
        },
        "outputId": "555acd94-8b08-4dfa-b314-c74eb24bc598"
      },
      "source": [
        "item = my_gucci.pop() # pop = 最後擺的那個\n",
        "print(item)\n",
        "print(my_gucci)"
      ],
      "execution_count": null,
      "outputs": [
        {
          "output_type": "stream",
          "name": "stdout",
          "text": [
            "['octopus', 100]\n",
            "['wallet', 400]\n"
          ]
        }
      ]
    },
    {
      "cell_type": "code",
      "metadata": {
        "id": "THZlSC_bDmoC",
        "colab": {
          "base_uri": "https://localhost:8080/"
        },
        "outputId": "8ee16097-0a5b-4628-d472-30767c758906"
      },
      "source": [
        "# check element in the list\n",
        "mark6_nos = [8, 13, 16, 21, 23, 49]\n",
        "print(8 in mark6_nos, 20 in mark6_nos, 48 not in mark6_nos)"
      ],
      "execution_count": null,
      "outputs": [
        {
          "output_type": "stream",
          "name": "stdout",
          "text": [
            "True False True\n"
          ]
        }
      ]
    },
    {
      "cell_type": "markdown",
      "source": [
        "Reference: [Mark 6 website](https://bet.hkjc.com/marksix/index.aspx)"
      ],
      "metadata": {
        "id": "NPN9Bq8rFNwY"
      }
    },
    {
      "cell_type": "markdown",
      "metadata": {
        "id": "mKpFHT25RYtf"
      },
      "source": [
        "# Tuple"
      ]
    },
    {
      "cell_type": "code",
      "metadata": {
        "id": "fBpOWm_YUBmz",
        "colab": {
          "base_uri": "https://localhost:8080/"
        },
        "outputId": "3c33beb4-cb8d-4b96-92b6-8448b850e165"
      },
      "source": [
        "# same read operation as List\n",
        "professors = ['Ben', 'Michael', 'Tony', 'Keith', 'Yau']\n",
        "professors_tuple = ('ben', 'Michael', 'Tony', 'Keith', 'Yau')\n",
        "print(professors_tuple[2])\n",
        "print(max(professors_tuple)) # 排序中細楷>大楷"
      ],
      "execution_count": null,
      "outputs": [
        {
          "output_type": "stream",
          "name": "stdout",
          "text": [
            "Tony\n",
            "ben\n"
          ]
        }
      ]
    },
    {
      "cell_type": "code",
      "metadata": {
        "id": "eZqCaLxzUweO",
        "colab": {
          "base_uri": "https://localhost:8080/"
        },
        "outputId": "257edf86-be2b-4713-c42f-bdeb920dbf1e"
      },
      "source": [
        "print(professors)\n",
        "professors[2] = 'Iris'\n",
        "print(professors)\n"
      ],
      "execution_count": null,
      "outputs": [
        {
          "output_type": "stream",
          "name": "stdout",
          "text": [
            "['Ben', 'Michael', 'Iris', 'Keith', 'Yau']\n",
            "['Ben', 'Michael', 'Iris', 'Keith', 'Yau']\n"
          ]
        }
      ]
    },
    {
      "cell_type": "code",
      "metadata": {
        "id": "7qkbaeHARYtg",
        "colab": {
          "base_uri": "https://localhost:8080/",
          "height": 176
        },
        "outputId": "21a50af7-dd51-4929-ddeb-404f3e46e938"
      },
      "source": [
        "# But Tuple cannot be revised\n",
        "professors_tuple[2] = 'Iris'\n",
        "print(professors_tuple)"
      ],
      "execution_count": null,
      "outputs": [
        {
          "output_type": "error",
          "ename": "TypeError",
          "evalue": "'tuple' object does not support item assignment",
          "traceback": [
            "\u001b[0;31m---------------------------------------------------------------------------\u001b[0m",
            "\u001b[0;31mTypeError\u001b[0m                                 Traceback (most recent call last)",
            "\u001b[0;32m/tmp/ipython-input-3703722228.py\u001b[0m in \u001b[0;36m<cell line: 0>\u001b[0;34m()\u001b[0m\n\u001b[1;32m      1\u001b[0m \u001b[0;31m# But Tuple cannot be revised\u001b[0m\u001b[0;34m\u001b[0m\u001b[0;34m\u001b[0m\u001b[0m\n\u001b[0;32m----> 2\u001b[0;31m \u001b[0mprofessors_tuple\u001b[0m\u001b[0;34m[\u001b[0m\u001b[0;36m2\u001b[0m\u001b[0;34m]\u001b[0m \u001b[0;34m=\u001b[0m \u001b[0;34m'Iris'\u001b[0m\u001b[0;34m\u001b[0m\u001b[0;34m\u001b[0m\u001b[0m\n\u001b[0m\u001b[1;32m      3\u001b[0m \u001b[0mprint\u001b[0m\u001b[0;34m(\u001b[0m\u001b[0mprofessors_tuple\u001b[0m\u001b[0;34m)\u001b[0m\u001b[0;34m\u001b[0m\u001b[0;34m\u001b[0m\u001b[0m\n",
            "\u001b[0;31mTypeError\u001b[0m: 'tuple' object does not support item assignment"
          ]
        }
      ]
    },
    {
      "cell_type": "code",
      "metadata": {
        "id": "gEHhvUBIU5dg",
        "colab": {
          "base_uri": "https://localhost:8080/",
          "height": 158
        },
        "outputId": "273cff0b-9b22-426b-a7e8-8709388aef07"
      },
      "source": [
        "# ERROR for the following\n",
        "professors_tuple.sort()"
      ],
      "execution_count": null,
      "outputs": [
        {
          "output_type": "error",
          "ename": "AttributeError",
          "evalue": "'tuple' object has no attribute 'sort'",
          "traceback": [
            "\u001b[0;31m---------------------------------------------------------------------------\u001b[0m",
            "\u001b[0;31mAttributeError\u001b[0m                            Traceback (most recent call last)",
            "\u001b[0;32m/tmp/ipython-input-2457036797.py\u001b[0m in \u001b[0;36m<cell line: 0>\u001b[0;34m()\u001b[0m\n\u001b[1;32m      1\u001b[0m \u001b[0;31m# ERROR for the following\u001b[0m\u001b[0;34m\u001b[0m\u001b[0;34m\u001b[0m\u001b[0m\n\u001b[0;32m----> 2\u001b[0;31m \u001b[0mprofessors_tuple\u001b[0m\u001b[0;34m.\u001b[0m\u001b[0msort\u001b[0m\u001b[0;34m(\u001b[0m\u001b[0;34m)\u001b[0m\u001b[0;34m\u001b[0m\u001b[0;34m\u001b[0m\u001b[0m\n\u001b[0m",
            "\u001b[0;31mAttributeError\u001b[0m: 'tuple' object has no attribute 'sort'"
          ]
        }
      ]
    },
    {
      "cell_type": "code",
      "metadata": {
        "id": "lW-9Ad9uU_RN",
        "colab": {
          "base_uri": "https://localhost:8080/",
          "height": 141
        },
        "outputId": "f99de422-58b9-4064-d171-a1ca6c7cf7e5"
      },
      "source": [
        "professors_tuple.append('Remus')"
      ],
      "execution_count": null,
      "outputs": [
        {
          "output_type": "error",
          "ename": "AttributeError",
          "evalue": "'tuple' object has no attribute 'append'",
          "traceback": [
            "\u001b[0;31m---------------------------------------------------------------------------\u001b[0m",
            "\u001b[0;31mAttributeError\u001b[0m                            Traceback (most recent call last)",
            "\u001b[0;32m/tmp/ipython-input-714673067.py\u001b[0m in \u001b[0;36m<cell line: 0>\u001b[0;34m()\u001b[0m\n\u001b[0;32m----> 1\u001b[0;31m \u001b[0mprofessors_tuple\u001b[0m\u001b[0;34m.\u001b[0m\u001b[0mappend\u001b[0m\u001b[0;34m(\u001b[0m\u001b[0;34m'Remus'\u001b[0m\u001b[0;34m)\u001b[0m\u001b[0;34m\u001b[0m\u001b[0;34m\u001b[0m\u001b[0m\n\u001b[0m",
            "\u001b[0;31mAttributeError\u001b[0m: 'tuple' object has no attribute 'append'"
          ]
        }
      ]
    },
    {
      "cell_type": "code",
      "metadata": {
        "id": "fyMHP6bAVBbL",
        "colab": {
          "base_uri": "https://localhost:8080/",
          "height": 141
        },
        "outputId": "56bc8cb4-e53f-413e-93fd-f97a55c94f6d"
      },
      "source": [
        "professors_tuple.reverse()"
      ],
      "execution_count": null,
      "outputs": [
        {
          "output_type": "error",
          "ename": "AttributeError",
          "evalue": "'tuple' object has no attribute 'reverse'",
          "traceback": [
            "\u001b[0;31m---------------------------------------------------------------------------\u001b[0m",
            "\u001b[0;31mAttributeError\u001b[0m                            Traceback (most recent call last)",
            "\u001b[0;32m/tmp/ipython-input-4239494679.py\u001b[0m in \u001b[0;36m<cell line: 0>\u001b[0;34m()\u001b[0m\n\u001b[0;32m----> 1\u001b[0;31m \u001b[0mprofessors_tuple\u001b[0m\u001b[0;34m.\u001b[0m\u001b[0mreverse\u001b[0m\u001b[0;34m(\u001b[0m\u001b[0;34m)\u001b[0m\u001b[0;34m\u001b[0m\u001b[0;34m\u001b[0m\u001b[0m\n\u001b[0m",
            "\u001b[0;31mAttributeError\u001b[0m: 'tuple' object has no attribute 'reverse'"
          ]
        }
      ]
    },
    {
      "cell_type": "markdown",
      "source": [
        "Tuple is lighter, in functions"
      ],
      "metadata": {
        "id": "WE9VyxMVSKEf"
      }
    },
    {
      "cell_type": "code",
      "metadata": {
        "id": "TwmYZMtoEuhZ",
        "colab": {
          "base_uri": "https://localhost:8080/"
        },
        "outputId": "e30a39f6-c4b1-42bf-9214-23f0c0ae9147"
      },
      "source": [
        "type(professors), dir(professors)"
      ],
      "execution_count": null,
      "outputs": [
        {
          "output_type": "execute_result",
          "data": {
            "text/plain": [
              "(list,\n",
              " ['__add__',\n",
              "  '__class__',\n",
              "  '__class_getitem__',\n",
              "  '__contains__',\n",
              "  '__delattr__',\n",
              "  '__delitem__',\n",
              "  '__dir__',\n",
              "  '__doc__',\n",
              "  '__eq__',\n",
              "  '__format__',\n",
              "  '__ge__',\n",
              "  '__getattribute__',\n",
              "  '__getitem__',\n",
              "  '__getstate__',\n",
              "  '__gt__',\n",
              "  '__hash__',\n",
              "  '__iadd__',\n",
              "  '__imul__',\n",
              "  '__init__',\n",
              "  '__init_subclass__',\n",
              "  '__iter__',\n",
              "  '__le__',\n",
              "  '__len__',\n",
              "  '__lt__',\n",
              "  '__mul__',\n",
              "  '__ne__',\n",
              "  '__new__',\n",
              "  '__reduce__',\n",
              "  '__reduce_ex__',\n",
              "  '__repr__',\n",
              "  '__reversed__',\n",
              "  '__rmul__',\n",
              "  '__setattr__',\n",
              "  '__setitem__',\n",
              "  '__sizeof__',\n",
              "  '__str__',\n",
              "  '__subclasshook__',\n",
              "  'append',\n",
              "  'clear',\n",
              "  'copy',\n",
              "  'count',\n",
              "  'extend',\n",
              "  'index',\n",
              "  'insert',\n",
              "  'pop',\n",
              "  'remove',\n",
              "  'reverse',\n",
              "  'sort'])"
            ]
          },
          "metadata": {},
          "execution_count": 25
        }
      ]
    },
    {
      "cell_type": "code",
      "metadata": {
        "id": "Y-ThIS6PE5Yl",
        "colab": {
          "base_uri": "https://localhost:8080/"
        },
        "outputId": "a61c44b7-a7c5-46b9-85ff-37dd1d7fc51a"
      },
      "source": [
        "professors.__sizeof__(), professors_tuple.__sizeof__()"
      ],
      "execution_count": null,
      "outputs": [
        {
          "output_type": "execute_result",
          "data": {
            "text/plain": [
              "(88, 64)"
            ]
          },
          "metadata": {},
          "execution_count": 26
        }
      ]
    },
    {
      "cell_type": "code",
      "metadata": {
        "id": "9fitPt_nEyzY",
        "colab": {
          "base_uri": "https://localhost:8080/"
        },
        "outputId": "de29c970-5b9a-4d42-f66c-82d7e164d661"
      },
      "source": [
        "type(professors_tuple), dir(professors_tuple)"
      ],
      "execution_count": null,
      "outputs": [
        {
          "output_type": "execute_result",
          "data": {
            "text/plain": [
              "(tuple,\n",
              " ['__add__',\n",
              "  '__class__',\n",
              "  '__class_getitem__',\n",
              "  '__contains__',\n",
              "  '__delattr__',\n",
              "  '__dir__',\n",
              "  '__doc__',\n",
              "  '__eq__',\n",
              "  '__format__',\n",
              "  '__ge__',\n",
              "  '__getattribute__',\n",
              "  '__getitem__',\n",
              "  '__getnewargs__',\n",
              "  '__getstate__',\n",
              "  '__gt__',\n",
              "  '__hash__',\n",
              "  '__init__',\n",
              "  '__init_subclass__',\n",
              "  '__iter__',\n",
              "  '__le__',\n",
              "  '__len__',\n",
              "  '__lt__',\n",
              "  '__mul__',\n",
              "  '__ne__',\n",
              "  '__new__',\n",
              "  '__reduce__',\n",
              "  '__reduce_ex__',\n",
              "  '__repr__',\n",
              "  '__rmul__',\n",
              "  '__setattr__',\n",
              "  '__sizeof__',\n",
              "  '__str__',\n",
              "  '__subclasshook__',\n",
              "  'count',\n",
              "  'index'])"
            ]
          },
          "metadata": {},
          "execution_count": 27
        }
      ]
    },
    {
      "cell_type": "code",
      "metadata": {
        "id": "vJDRoZ3cRYtg",
        "colab": {
          "base_uri": "https://localhost:8080/"
        },
        "outputId": "1ecb400f-606c-4a3d-b696-b6a8cc941320"
      },
      "source": [
        "# multiple assignment\n",
        "gbphkd , jpyhkd = 9.5 , 0.0582\n",
        "print(jpyhkd)\n",
        "print(gbphkd)"
      ],
      "execution_count": null,
      "outputs": [
        {
          "output_type": "stream",
          "name": "stdout",
          "text": [
            "0.0582\n",
            "9.5\n"
          ]
        }
      ]
    },
    {
      "cell_type": "code",
      "source": [
        "x, y = 123, 456\n",
        "x, y = y, x\n",
        "print(x, y)"
      ],
      "metadata": {
        "id": "_jX1XqknXevO",
        "colab": {
          "base_uri": "https://localhost:8080/"
        },
        "outputId": "26e6e512-9638-473e-a049-792af834486d"
      },
      "execution_count": null,
      "outputs": [
        {
          "output_type": "stream",
          "name": "stdout",
          "text": [
            "456 123\n"
          ]
        }
      ]
    },
    {
      "cell_type": "markdown",
      "source": [
        "Reference: [How to swap two numbers without using a temp variable?](https://www.geeksforgeeks.org/swap-two-numbers-without-using-temporary-variable/)"
      ],
      "metadata": {
        "id": "1aIWf8aqT1QU"
      }
    },
    {
      "cell_type": "code",
      "metadata": {
        "id": "FmaELR1oRYth",
        "colab": {
          "base_uri": "https://localhost:8080/"
        },
        "outputId": "8fffabb3-274b-4a31-e3dc-4cde539e9887"
      },
      "source": [
        "# Comparison\n",
        "print(\n",
        "    (0, 1, 2) < (5, 1, 2)\n",
        "    , (0, 1, 2000000) < (0, 3, 4)\n",
        "    , ( 'Jones', 'Sally' ) < ('Jones', 'Sam')\n",
        "    , ( 'Jones', 'Sally') > ('Adams', 'Sam')\n",
        ")"
      ],
      "execution_count": null,
      "outputs": [
        {
          "output_type": "stream",
          "name": "stdout",
          "text": [
            "True True True True\n"
          ]
        }
      ]
    },
    {
      "cell_type": "markdown",
      "metadata": {
        "id": "MIhC_gYoRYth"
      },
      "source": [
        "# Dictionary\n",
        "\n",
        "Example: Currency"
      ]
    },
    {
      "cell_type": "code",
      "metadata": {
        "id": "cLadSg2_RYth",
        "colab": {
          "base_uri": "https://localhost:8080/"
        },
        "outputId": "6803603d-b5c1-44f8-b105-cde23dfb84ac"
      },
      "source": [
        "dict_curr = {}\n",
        "# or purse = dict()\n",
        "dict_curr['GBP'] = 9.5\n",
        "dict_curr['USD'] = 7.85\n",
        "dict_curr['JPY'] = 0.0582\n",
        "print(dict_curr)\n",
        "print(dict_curr['JPY'])"
      ],
      "execution_count": null,
      "outputs": [
        {
          "output_type": "stream",
          "name": "stdout",
          "text": [
            "{'GBP': 9.5, 'USD': 7.85, 'JPY': 0.0582}\n",
            "0.0582\n"
          ]
        }
      ]
    },
    {
      "cell_type": "code",
      "metadata": {
        "id": "OKvRv8e4VtC5",
        "colab": {
          "base_uri": "https://localhost:8080/"
        },
        "outputId": "8bea2ee9-7438-410f-be38-1de3d6b456f0"
      },
      "source": [
        "dict_curr['GBP'] = 10\n",
        "print(dict_curr)"
      ],
      "execution_count": null,
      "outputs": [
        {
          "output_type": "stream",
          "name": "stdout",
          "text": [
            "{'GBP': 10, 'USD': 7.85, 'JPY': 0.0582}\n"
          ]
        }
      ]
    },
    {
      "cell_type": "code",
      "metadata": {
        "id": "WUi12HV-RYti",
        "colab": {
          "base_uri": "https://localhost:8080/"
        },
        "outputId": "13bdd260-d101-4137-def9-01d1f4acf963"
      },
      "source": [
        "dict_curr = {'GBP': 9.5, 'USD': 7.85, 'JPY': 0.0582}\n",
        "print(dict_curr)"
      ],
      "execution_count": null,
      "outputs": [
        {
          "output_type": "stream",
          "name": "stdout",
          "text": [
            "{'GBP': 9.5, 'USD': 7.85, 'JPY': 0.0582}\n"
          ]
        }
      ]
    },
    {
      "cell_type": "markdown",
      "source": [
        "Use Dictionary to write a switch function."
      ],
      "metadata": {
        "id": "Gmj2FkcvaTAu"
      }
    },
    {
      "cell_type": "code",
      "source": [
        "def get_currency(curr):\n",
        "    # Please rewrite the following\n",
        "    if curr == 'GBP':\n",
        "        return 9.5\n",
        "    elif curr == 'USD':\n",
        "        return 7.85\n",
        "    elif curr == 'JPY':\n",
        "        return 0.0582\n",
        "    else:\n",
        "        return None\n",
        "\n",
        "def get_currency_dict(curr):\n",
        "    # Please rewrite the following\n",
        "    dict_curr = {'GBP': 9.5, 'USD': 7.85, 'JPY': 0.0582}\n",
        "    if curr not in dict_curr: return None\n",
        "    return dict_curr[curr]"
      ],
      "metadata": {
        "id": "mTBQujbpaYid"
      },
      "execution_count": null,
      "outputs": []
    },
    {
      "cell_type": "code",
      "source": [
        "get_currency_dict('HKD')"
      ],
      "metadata": {
        "id": "gyJgqqNkVTwQ"
      },
      "execution_count": null,
      "outputs": []
    },
    {
      "cell_type": "code",
      "source": [
        "dict_curr.keys()"
      ],
      "metadata": {
        "colab": {
          "base_uri": "https://localhost:8080/"
        },
        "id": "NRE4THxIizQs",
        "outputId": "2f72fa08-fb11-4f30-b832-f6e40e1db16e"
      },
      "execution_count": null,
      "outputs": [
        {
          "output_type": "execute_result",
          "data": {
            "text/plain": [
              "dict_keys(['GBP', 'USD', 'JPY'])"
            ]
          },
          "metadata": {},
          "execution_count": 43
        }
      ]
    },
    {
      "cell_type": "code",
      "source": [
        "dict_curr['HKD']"
      ],
      "metadata": {
        "id": "1-fYjy4ieQC6",
        "colab": {
          "base_uri": "https://localhost:8080/",
          "height": 141
        },
        "outputId": "36442f99-8d10-4231-ac05-2a562f8ad2cb"
      },
      "execution_count": null,
      "outputs": [
        {
          "output_type": "error",
          "ename": "KeyError",
          "evalue": "'HKD'",
          "traceback": [
            "\u001b[0;31m---------------------------------------------------------------------------\u001b[0m",
            "\u001b[0;31mKeyError\u001b[0m                                  Traceback (most recent call last)",
            "\u001b[0;32m/tmp/ipython-input-2506714641.py\u001b[0m in \u001b[0;36m<cell line: 0>\u001b[0;34m()\u001b[0m\n\u001b[0;32m----> 1\u001b[0;31m \u001b[0mdict_curr\u001b[0m\u001b[0;34m[\u001b[0m\u001b[0;34m'HKD'\u001b[0m\u001b[0;34m]\u001b[0m\u001b[0;34m\u001b[0m\u001b[0;34m\u001b[0m\u001b[0m\n\u001b[0m",
            "\u001b[0;31mKeyError\u001b[0m: 'HKD'"
          ]
        }
      ]
    },
    {
      "cell_type": "markdown",
      "source": [
        "Example: Counting Alphabets"
      ],
      "metadata": {
        "id": "LOoLnVwubVE1"
      }
    },
    {
      "cell_type": "code",
      "metadata": {
        "id": "c3Lby6F-bBb_",
        "colab": {
          "base_uri": "https://localhost:8080/",
          "height": 193
        },
        "outputId": "c7266399-251b-4dc7-fb0b-bf23adfdd5f5"
      },
      "source": [
        "wiki_str = 'Data science is an interdisciplinary field that uses scientific methods, processes, algorithms and systems to extract knowledge and insights from noisy, structured and unstructured data, and apply knowledge from data across a broad range of application domains.'\n",
        "wiki_str = wiki_str.lower()\n",
        "\n",
        "dict_cnt = {}\n",
        "for letter in wiki_str:\n",
        "    dict_cnt[letter] += 1\n",
        "print(dict_cnt)"
      ],
      "execution_count": null,
      "outputs": [
        {
          "output_type": "error",
          "ename": "KeyError",
          "evalue": "'d'",
          "traceback": [
            "\u001b[0;31m---------------------------------------------------------------------------\u001b[0m",
            "\u001b[0;31mKeyError\u001b[0m                                  Traceback (most recent call last)",
            "\u001b[0;32m/tmp/ipython-input-1786187877.py\u001b[0m in \u001b[0;36m<cell line: 0>\u001b[0;34m()\u001b[0m\n\u001b[1;32m      4\u001b[0m \u001b[0mdict_cnt\u001b[0m \u001b[0;34m=\u001b[0m \u001b[0;34m{\u001b[0m\u001b[0;34m}\u001b[0m\u001b[0;34m\u001b[0m\u001b[0;34m\u001b[0m\u001b[0m\n\u001b[1;32m      5\u001b[0m \u001b[0;32mfor\u001b[0m \u001b[0mletter\u001b[0m \u001b[0;32min\u001b[0m \u001b[0mwiki_str\u001b[0m\u001b[0;34m:\u001b[0m\u001b[0;34m\u001b[0m\u001b[0;34m\u001b[0m\u001b[0m\n\u001b[0;32m----> 6\u001b[0;31m     \u001b[0mdict_cnt\u001b[0m\u001b[0;34m[\u001b[0m\u001b[0mletter\u001b[0m\u001b[0;34m]\u001b[0m \u001b[0;34m+=\u001b[0m \u001b[0;36m1\u001b[0m\u001b[0;34m\u001b[0m\u001b[0;34m\u001b[0m\u001b[0m\n\u001b[0m\u001b[1;32m      7\u001b[0m \u001b[0mprint\u001b[0m\u001b[0;34m(\u001b[0m\u001b[0mdict_cnt\u001b[0m\u001b[0;34m)\u001b[0m\u001b[0;34m\u001b[0m\u001b[0;34m\u001b[0m\u001b[0m\n",
            "\u001b[0;31mKeyError\u001b[0m: 'd'"
          ]
        }
      ]
    },
    {
      "cell_type": "code",
      "source": [
        "dict_cnt = {}\n",
        "for letter in wiki_str:\n",
        "    # if letter not in dict_cnt:\n",
        "    #     dict_cnt[letter] = 1\n",
        "    # else:\n",
        "    #     dict_cnt[letter] += 1\n",
        "    # Same result, but shorten by get function\n",
        "    dict_cnt[letter] = dict_cnt.get(letter, 0) + 1\n",
        "print(dict_cnt)"
      ],
      "metadata": {
        "id": "SDU-WMtUfMP2",
        "colab": {
          "base_uri": "https://localhost:8080/"
        },
        "outputId": "aaf772e1-496f-4c35-970d-2a6f87886501"
      },
      "execution_count": null,
      "outputs": [
        {
          "output_type": "stream",
          "name": "stdout",
          "text": [
            "{'d': 16, 'a': 23, 't': 19, ' ': 36, 's': 22, 'c': 11, 'i': 17, 'e': 18, 'n': 17, 'r': 14, 'p': 6, 'l': 7, 'y': 4, 'f': 5, 'h': 4, 'u': 6, 'm': 6, 'o': 14, ',': 4, 'g': 5, 'x': 1, 'k': 2, 'w': 2, 'b': 1, '.': 1}\n"
          ]
        }
      ]
    },
    {
      "cell_type": "code",
      "metadata": {
        "id": "IxbFfunGHGoL",
        "colab": {
          "base_uri": "https://localhost:8080/"
        },
        "outputId": "4862e46b-71cd-4494-9826-04433202df6e"
      },
      "source": [
        "print('b' in dict_cnt)\n",
        "print('z' in dict_cnt)"
      ],
      "execution_count": null,
      "outputs": [
        {
          "output_type": "stream",
          "name": "stdout",
          "text": [
            "True\n",
            "False\n"
          ]
        }
      ]
    },
    {
      "cell_type": "code",
      "source": [
        "temp = list(dict_cnt.keys())"
      ],
      "metadata": {
        "id": "w4tOtlkiWXvU"
      },
      "execution_count": null,
      "outputs": []
    },
    {
      "cell_type": "code",
      "source": [
        "temp.sort()"
      ],
      "metadata": {
        "id": "0wEBDLrRWksm"
      },
      "execution_count": null,
      "outputs": []
    },
    {
      "cell_type": "code",
      "source": [
        "temp"
      ],
      "metadata": {
        "id": "iAPxeus7WngG",
        "colab": {
          "base_uri": "https://localhost:8080/"
        },
        "outputId": "bd8df1be-045b-4142-a904-cadcc93fc3e6"
      },
      "execution_count": null,
      "outputs": [
        {
          "output_type": "execute_result",
          "data": {
            "text/plain": [
              "[' ',\n",
              " ',',\n",
              " '.',\n",
              " 'a',\n",
              " 'b',\n",
              " 'c',\n",
              " 'd',\n",
              " 'e',\n",
              " 'f',\n",
              " 'g',\n",
              " 'h',\n",
              " 'i',\n",
              " 'k',\n",
              " 'l',\n",
              " 'm',\n",
              " 'n',\n",
              " 'o',\n",
              " 'p',\n",
              " 'r',\n",
              " 's',\n",
              " 't',\n",
              " 'u',\n",
              " 'w',\n",
              " 'x',\n",
              " 'y']"
            ]
          },
          "metadata": {},
          "execution_count": 49
        }
      ]
    },
    {
      "cell_type": "code",
      "source": [
        "print(16 in dict_cnt.values())"
      ],
      "metadata": {
        "id": "1Lc_ITU-WR0I",
        "colab": {
          "base_uri": "https://localhost:8080/"
        },
        "outputId": "19b9c52c-348d-4738-8e44-100cf3d37007"
      },
      "execution_count": null,
      "outputs": [
        {
          "output_type": "stream",
          "name": "stdout",
          "text": [
            "True\n"
          ]
        }
      ]
    },
    {
      "cell_type": "markdown",
      "metadata": {
        "id": "9Bk7amw9RYti"
      },
      "source": [
        "# Shorten Loops"
      ]
    },
    {
      "cell_type": "markdown",
      "metadata": {
        "id": "BLm0FVZDRYti"
      },
      "source": [
        "Map\n",
        "\n",
        "Example: store prices comparison"
      ]
    },
    {
      "cell_type": "code",
      "metadata": {
        "id": "W07L0-xPRYti",
        "colab": {
          "base_uri": "https://localhost:8080/"
        },
        "outputId": "c110c34f-4486-4c4e-8bca-446665a07ab7"
      },
      "source": [
        "store_pkshop = [10.00, 11.00, 12.34, 2.34]\n",
        "store_wellcome = [9.00, 11.10, 12.34, 2.01]\n",
        "cheapest = map(min, store_pkshop, store_wellcome) # map = List晒出黎逐個比較\n",
        "print(list(cheapest))\n",
        "print(sum(list(cheapest)))\n",
        "\n",
        "# Actually you can use numpy for vectorizing comparison later"
      ],
      "execution_count": null,
      "outputs": [
        {
          "output_type": "stream",
          "name": "stdout",
          "text": [
            "[9.0, 11.0, 12.34, 2.01]\n",
            "0\n"
          ]
        }
      ]
    },
    {
      "cell_type": "code",
      "source": [
        "cheapest"
      ],
      "metadata": {
        "id": "q2N9sUh0XajK",
        "colab": {
          "base_uri": "https://localhost:8080/"
        },
        "outputId": "88398540-7fc1-4d2c-ddf1-4aa1a1255936"
      },
      "execution_count": null,
      "outputs": [
        {
          "output_type": "execute_result",
          "data": {
            "text/plain": [
              "<map at 0x798385fb82b0>"
            ]
          },
          "metadata": {},
          "execution_count": 8
        }
      ]
    },
    {
      "cell_type": "markdown",
      "metadata": {
        "id": "NC08NTTMRYtj"
      },
      "source": [
        "Lambda functions"
      ]
    },
    {
      "cell_type": "code",
      "metadata": {
        "id": "7TxH2ONeRYtj",
        "colab": {
          "base_uri": "https://localhost:8080/"
        },
        "outputId": "06275dc2-9652-4a20-936b-a431c377a3dc"
      },
      "source": [
        "def wmin(x, y):\n",
        "    return (min(x*2.0, y*3.0))\n",
        "print(list(map(wmin, store_pkshop, store_wellcome)))\n",
        "print(list(map(lambda x, y: min(x*2.0, y*3.0), store_pkshop, store_wellcome)))"
      ],
      "execution_count": null,
      "outputs": [
        {
          "output_type": "stream",
          "name": "stdout",
          "text": [
            "[20.0, 22.0, 24.68, 4.68]\n",
            "[20.0, 22.0, 24.68, 4.68]\n"
          ]
        }
      ]
    },
    {
      "cell_type": "markdown",
      "metadata": {
        "id": "mX1cXBVjRYtj"
      },
      "source": [
        "List Comprehension"
      ]
    },
    {
      "cell_type": "code",
      "metadata": {
        "id": "RyqmBmGERYtj",
        "colab": {
          "base_uri": "https://localhost:8080/"
        },
        "outputId": "f28ba994-fc9d-4d3b-d991-701170331023"
      },
      "source": [
        "my_list = []\n",
        "for number in range(10):\n",
        "    if number % 2 == 0:\n",
        "        my_list.append(number)\n",
        "print(my_list)"
      ],
      "execution_count": null,
      "outputs": [
        {
          "output_type": "stream",
          "name": "stdout",
          "text": [
            "[0, 2, 4, 6, 8]\n"
          ]
        }
      ]
    },
    {
      "cell_type": "code",
      "metadata": {
        "id": "ilGFAMqbchXn",
        "colab": {
          "base_uri": "https://localhost:8080/"
        },
        "outputId": "c41ef426-1031-48df-8ef0-a276271c2b2a"
      },
      "source": [
        "my_list2 = [number for number in range(10) if number % 2 == 0]\n",
        "print(my_list2)"
      ],
      "execution_count": null,
      "outputs": [
        {
          "output_type": "stream",
          "name": "stdout",
          "text": [
            "[0, 2, 4, 6, 8]\n"
          ]
        }
      ]
    },
    {
      "cell_type": "markdown",
      "source": [
        "Don't use for loop if looping a large list. <br>\n",
        "Instead, use pandas or numpy."
      ],
      "metadata": {
        "id": "49wvLHkg8ckx"
      }
    },
    {
      "cell_type": "code",
      "metadata": {
        "id": "kf3VRnFUcjkW",
        "colab": {
          "base_uri": "https://localhost:8080/"
        },
        "outputId": "b1bca532-eb53-4a27-a35e-cfd4d10e253a"
      },
      "source": [
        "# Example again, for list comprehension\n",
        "professors = ['Ben', 'Michael', 'Tony', 'Keith', 'Yau']\n",
        "# for prof in professors :\n",
        "#     print('Happy Halloween:',  prof)\n",
        "[print('Happy Halloween:',  prof) for prof in professors]"
      ],
      "execution_count": null,
      "outputs": [
        {
          "output_type": "stream",
          "name": "stdout",
          "text": [
            "Happy Halloween: Ben\n",
            "Happy Halloween: Michael\n",
            "Happy Halloween: Tony\n",
            "Happy Halloween: Keith\n",
            "Happy Halloween: Yau\n"
          ]
        },
        {
          "output_type": "execute_result",
          "data": {
            "text/plain": [
              "[None, None, None, None, None]"
            ]
          },
          "metadata": {},
          "execution_count": 1
        }
      ]
    },
    {
      "cell_type": "code",
      "metadata": {
        "id": "Mh_aMMmncqiG",
        "colab": {
          "base_uri": "https://localhost:8080/"
        },
        "outputId": "d1992b90-474e-4606-ae54-3c849ddf7495"
      },
      "source": [
        "# Dictionary Comprehension\n",
        "professors = ['Ben', 'Michael', 'Tony', 'Keith', 'Yau']\n",
        "nchar_professors = {prof: len(prof) for prof in professors}\n",
        "print(nchar_professors)"
      ],
      "execution_count": null,
      "outputs": [
        {
          "output_type": "stream",
          "name": "stdout",
          "text": [
            "{'Ben': 3, 'Michael': 7, 'Tony': 4, 'Keith': 5, 'Yau': 3}\n"
          ]
        }
      ]
    },
    {
      "cell_type": "code",
      "metadata": {
        "id": "HJN5BSPjKeJ-"
      },
      "source": [],
      "execution_count": null,
      "outputs": []
    }
  ]
}
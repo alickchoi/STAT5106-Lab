{
  "nbformat": 4,
  "nbformat_minor": 0,
  "metadata": {
    "colab": {
      "provenance": [],
      "include_colab_link": true
    },
    "kernelspec": {
      "name": "python3",
      "display_name": "Python 3"
    }
  },
  "cells": [
    {
      "cell_type": "markdown",
      "metadata": {
        "id": "view-in-github",
        "colab_type": "text"
      },
      "source": [
        "<a href=\"https://colab.research.google.com/github/alickchoi/STAT5106-Lab/blob/main/Week_5_Google_API_Example.ipynb\" target=\"_parent\"><img src=\"https://colab.research.google.com/assets/colab-badge.svg\" alt=\"Open In Colab\"/></a>"
      ]
    },
    {
      "cell_type": "markdown",
      "source": [
        "# Initialization for calling an API\n",
        "\n",
        "For example, Google Map Geocoding API. [The Document.](https://developers.google.com/maps/documentation/geocoding/start)\n",
        "\n",
        "### Getpass package\n",
        "\n",
        "Reference is [here.](https://docs.python.org/3/library/getpass.html)"
      ],
      "metadata": {
        "id": "9mrRhMWQLZsY"
      }
    },
    {
      "cell_type": "code",
      "metadata": {
        "id": "IJ0vHo5ldrxJ"
      },
      "source": [
        "key_temp = input('Type sth:')"
      ],
      "execution_count": null,
      "outputs": []
    },
    {
      "cell_type": "code",
      "metadata": {
        "id": "mJsPbjDed0uH"
      },
      "source": [
        "from getpass import getpass\n",
        "key_temp = getpass('Type sth:')"
      ],
      "execution_count": null,
      "outputs": []
    },
    {
      "cell_type": "markdown",
      "source": [
        "### Try the API example."
      ],
      "metadata": {
        "id": "Snz7s739LoyZ"
      }
    },
    {
      "cell_type": "code",
      "source": [
        "from getpass import getpass\n",
        "\n",
        "api_key = getpass('Please input Google MAP API key:')\n",
        "print(f'https://maps.googleapis.com/maps/api/geocode/json?address=Lady+Shaw+Building%2C+Hong+Kong&key={\"*\" * len(api_key)}')"
      ],
      "metadata": {
        "id": "bNcNXvIkM0uJ"
      },
      "execution_count": null,
      "outputs": []
    },
    {
      "cell_type": "markdown",
      "metadata": {
        "id": "cNugMSV1KA-n"
      },
      "source": [
        "### Import API key\n",
        "\n",
        "To get your API key, [here](https://console.cloud.google.com/apis/dashboard) <br>\n",
        "Note: This needs enabling Billing - binding your credit card <br>\n",
        "Else the following message comes out\n",
        "\n",
        "```\n",
        "==== Failure To Retrieve ====\n",
        "{\n",
        "   \"error_message\" : \"You must enable Billing on the Google Cloud Project at https://console.cloud.google.com/project/_/billing/enable Learn more at https://developers.google.com/maps/gmp-get-started\",\n",
        "   \"results\" : [],\n",
        "   \"status\" : \"REQUEST_DENIED\"\n",
        "}\n",
        "\n",
        "```\n",
        "\n"
      ]
    },
    {
      "cell_type": "markdown",
      "source": [
        "# Use urllib to get API result"
      ],
      "metadata": {
        "id": "Zn5rtQLjOWcO"
      }
    },
    {
      "cell_type": "code",
      "source": [
        "import urllib.request, urllib.parse, urllib.error\n",
        "import json\n",
        "import ssl\n",
        "\n",
        "serviceurl = 'https://maps.googleapis.com/maps/api/geocode/json'\n",
        "\n",
        "# Ignore SSL certificate errors\n",
        "ctx = ssl.create_default_context()\n",
        "ctx.check_hostname = False\n",
        "ctx.verify_mode = ssl.CERT_NONE\n",
        "\n",
        "parms = {}\n",
        "parms['address'] = 'Lady Shaw Building'\n",
        "parms['key'] = api_key\n",
        "url = serviceurl + '?' + urllib.parse.urlencode(parms)\n",
        "\n",
        "print('Retrieving', url)\n",
        "uh = urllib.request.urlopen(url, context=ctx)\n",
        "data = uh.read().decode() # Note: decode is for transforming bytes --> UTF-8\n",
        "\n",
        "print(data)"
      ],
      "metadata": {
        "id": "GmDwjZS2OWVX"
      },
      "execution_count": null,
      "outputs": []
    },
    {
      "cell_type": "markdown",
      "metadata": {
        "id": "wczEIHEBNOQn"
      },
      "source": [
        "Note: SSL certificate errors ([Ref](https://blog.hubspot.com/website/fix-ssl-certificate-error))"
      ]
    },
    {
      "cell_type": "markdown",
      "source": [
        "### JSON string to dictionary"
      ],
      "metadata": {
        "id": "f9J_q_otRAHL"
      }
    },
    {
      "cell_type": "code",
      "source": [
        "geojs = json.loads(data)"
      ],
      "metadata": {
        "id": "9WGQRa3cOWII"
      },
      "execution_count": null,
      "outputs": []
    },
    {
      "cell_type": "code",
      "source": [
        "geojs"
      ],
      "metadata": {
        "id": "IhGSBNcb1L7r"
      },
      "execution_count": null,
      "outputs": []
    },
    {
      "cell_type": "markdown",
      "source": [
        "### Extract data from the dictionary"
      ],
      "metadata": {
        "id": "rgVVAgyeQ_TU"
      }
    },
    {
      "cell_type": "code",
      "source": [
        "geojs['results'][0].keys()"
      ],
      "metadata": {
        "id": "JV6sZTr_lL2v"
      },
      "execution_count": null,
      "outputs": []
    },
    {
      "cell_type": "code",
      "source": [
        "geojs['results'][0]['geometry']"
      ],
      "metadata": {
        "id": "a1v5wCRplXVw"
      },
      "execution_count": null,
      "outputs": []
    },
    {
      "cell_type": "code",
      "source": [
        "print('Place id', geojs['results'][0]['place_id'])\n",
        "\n",
        "lat = geojs['results'][0]['geometry']['location']['lat']\n",
        "lng = geojs['results'][0]['geometry']['location']['lng']\n",
        "print('lat', lat, 'lng', lng)\n",
        "\n",
        "location = geojs['results'][0]['formatted_address']\n",
        "print(location)"
      ],
      "metadata": {
        "id": "4JHG8e6KRT87"
      },
      "execution_count": null,
      "outputs": []
    },
    {
      "cell_type": "markdown",
      "source": [
        "# Embedding the try-exception handling, the full code as GeoAPI.py"
      ],
      "metadata": {
        "id": "MiwDVMU_RzjD"
      }
    },
    {
      "cell_type": "markdown",
      "metadata": {
        "id": "EQycWaHBJAe_"
      },
      "source": [
        "### Download GeoAPI.py"
      ]
    },
    {
      "cell_type": "code",
      "metadata": {
        "id": "63pQdIykIYsE"
      },
      "source": [
        "! wget --no-check-certificate 'https://raw.githubusercontent.com/kyalan/CUHK_STAT5106_General/main/GeoAPI.py' -O /content/GeoAPI.py"
      ],
      "execution_count": null,
      "outputs": []
    },
    {
      "cell_type": "code",
      "metadata": {
        "id": "XIqtDFDxMaCg"
      },
      "source": [
        "# confirm the working directory\n",
        "\n",
        "import os\n",
        "print(os.getcwd())"
      ],
      "execution_count": null,
      "outputs": []
    },
    {
      "cell_type": "code",
      "metadata": {
        "id": "BvJ9XoMVMODw"
      },
      "source": [
        "# GeoAPI content\n",
        "\n",
        "with open('GeoAPI.py') as f:\n",
        "    print(f.read())"
      ],
      "execution_count": null,
      "outputs": []
    },
    {
      "cell_type": "code",
      "metadata": {
        "id": "y2wkN5qlOVvu"
      },
      "source": [
        "# For reload the whole module\n",
        "\n",
        "# from importlib import reload\n",
        "# import GeoAPI\n",
        "# reload(GeoAPI)"
      ],
      "execution_count": null,
      "outputs": []
    },
    {
      "cell_type": "markdown",
      "metadata": {
        "id": "Xkqgu4JgQBe8"
      },
      "source": [
        "### Geocoding API getting lat-long\n",
        "\n",
        "Reference is [here](https://developers.google.com/maps/documentation/geocoding/overview)"
      ]
    },
    {
      "cell_type": "code",
      "metadata": {
        "id": "iRldd6pkiEkB"
      },
      "source": [
        "from GeoAPI import geographer\n",
        "\n",
        "george = geographer()\n"
      ],
      "execution_count": null,
      "outputs": []
    },
    {
      "cell_type": "code",
      "metadata": {
        "id": "HK3FlXF2IujU"
      },
      "source": [
        "address = 'Lady Shaw Building, Hong Kong'\n",
        "geojs = george.getGeojs(address, verbose=True)\n",
        "\n",
        "print('Place id', geojs['results'][0]['place_id'])\n",
        "\n",
        "try:\n",
        "    lat = geojs['results'][0]['geometry']['location']['lat']\n",
        "    lng = geojs['results'][0]['geometry']['location']['lng']\n",
        "except:\n",
        "    lat = None\n",
        "    lng = None\n",
        "\n",
        "print('lat', lat, 'lng', lng)\n",
        "location = geojs['results'][0]['formatted_address']\n",
        "print(location)"
      ],
      "execution_count": null,
      "outputs": []
    },
    {
      "cell_type": "code",
      "metadata": {
        "id": "itr4bU6zOutV"
      },
      "source": [
        "geojs"
      ],
      "execution_count": null,
      "outputs": []
    },
    {
      "cell_type": "markdown",
      "metadata": {
        "id": "sUkhTJtcR57h"
      },
      "source": [
        "# Knowledge Graph\n",
        "\n",
        "Reference is [here](https://cloud.google.com/enterprise-knowledge-graph/docs/search-api). <br>\n",
        "Google Trend is [here](https://trends.google.com.tw/trends/?geo=HK) (Just for brainstorming ideas)"
      ]
    },
    {
      "cell_type": "code",
      "metadata": {
        "id": "9bsHsVuBlUuo"
      },
      "source": [
        "!wget --no-check-certificate 'https://raw.githubusercontent.com/kyalan/CUHK_STAT5106_General/main/KnowledgeAPI.py' -O /content/KnowledgeAPI.py"
      ],
      "execution_count": null,
      "outputs": []
    },
    {
      "cell_type": "code",
      "metadata": {
        "id": "niiMldkJl9GI"
      },
      "source": [
        "# For reload the whole module\n",
        "\n",
        "# from importlib import reload\n",
        "# import KnowledgeAPI\n",
        "# reload(KnowledgeAPI)"
      ],
      "execution_count": null,
      "outputs": []
    },
    {
      "cell_type": "code",
      "metadata": {
        "id": "r5PLAH7lkd_n"
      },
      "source": [
        "from KnowledgeAPI import knowledger\n",
        "knowles = knowledger()"
      ],
      "execution_count": null,
      "outputs": []
    },
    {
      "cell_type": "code",
      "metadata": {
        "id": "5xjAxwknSAWr"
      },
      "source": [
        "query = '吉伊卡哇'\n",
        "\n",
        "js = knowles.getKnowjs(query, 'zh', True)\n",
        "for element in js['itemListElement']:\n",
        "  print(element['result']['name'] + ' (' + str(element['resultScore']) + ')' + ' , ' + element['result'].get('detailedDescription', {'articleBody': ''})['articleBody'])\n"
      ],
      "execution_count": null,
      "outputs": []
    },
    {
      "cell_type": "code",
      "metadata": {
        "id": "6MJ978esjiis"
      },
      "source": [
        "js"
      ],
      "execution_count": null,
      "outputs": []
    },
    {
      "cell_type": "markdown",
      "metadata": {
        "id": "9yAj6k-hLr2q"
      },
      "source": [
        "## Actually they can be integrated into 1 python script file - as below."
      ]
    },
    {
      "cell_type": "code",
      "metadata": {
        "id": "ZJpZS_2NLe8M"
      },
      "source": [
        "!wget --no-check-certificate https://raw.githubusercontent.com/kyalan/CUHK_STAT5106_General/main/GoogleAPI.py -O /content/GoogleAPI.py"
      ],
      "execution_count": null,
      "outputs": []
    },
    {
      "cell_type": "markdown",
      "source": [
        "# More Google API\n",
        "https://console.cloud.google.com/apis/library"
      ],
      "metadata": {
        "id": "MhPtm2A3rU17"
      }
    }
  ]
}
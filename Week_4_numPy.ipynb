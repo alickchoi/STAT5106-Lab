{
  "nbformat": 4,
  "nbformat_minor": 0,
  "metadata": {
    "kernelspec": {
      "display_name": "Python 3",
      "language": "python",
      "name": "python3"
    },
    "language_info": {
      "codemirror_mode": {
        "name": "ipython",
        "version": 3
      },
      "file_extension": ".py",
      "mimetype": "text/x-python",
      "name": "python",
      "nbconvert_exporter": "python",
      "pygments_lexer": "ipython3",
      "version": "3.6.9"
    },
    "colab": {
      "provenance": [],
      "include_colab_link": true
    }
  },
  "cells": [
    {
      "cell_type": "markdown",
      "metadata": {
        "id": "view-in-github",
        "colab_type": "text"
      },
      "source": [
        "<a href=\"https://colab.research.google.com/github/alickchoi/STAT5106-Lab/blob/main/Week_4_numPy.ipynb\" target=\"_parent\"><img src=\"https://colab.research.google.com/assets/colab-badge.svg\" alt=\"Open In Colab\"/></a>"
      ]
    },
    {
      "cell_type": "markdown",
      "metadata": {
        "id": "UZvTY0BgCkCj"
      },
      "source": [
        "# numPy\n",
        "\n",
        "For fundamental Linear Algebra, welcome to check this [colab](https://colab.research.google.com/github/drvinceknight/Python-Mathematics-Handbook/blob/master/02-Linear-algebra-with-Numpy.ipynb).<br>\n",
        "And thanks Dr. Vince Knight for this simple colab."
      ]
    },
    {
      "cell_type": "code",
      "metadata": {
        "id": "a9dxR36uCkCk"
      },
      "source": [
        "import numpy as np"
      ],
      "execution_count": null,
      "outputs": []
    },
    {
      "cell_type": "code",
      "metadata": {
        "id": "v-H7YCJICkCr"
      },
      "source": [
        "# array creation\n",
        "print(np.array([4, 5, 6]))\n",
        "print(np.array([[7, 8, 9], [10, 11, 12]]))"
      ],
      "execution_count": null,
      "outputs": []
    },
    {
      "cell_type": "code",
      "metadata": {
        "id": "6vqFfbtrCkCu"
      },
      "source": [
        "# array dimension\n",
        "m = np.array([[7, 8, 9], [10, 11, 12]])\n",
        "m.shape"
      ],
      "execution_count": null,
      "outputs": []
    },
    {
      "cell_type": "code",
      "metadata": {
        "id": "4JewrVhuCkCy"
      },
      "source": [
        "# sequence\n",
        "n = np.arange(0, 30, 2) # start at 0 count up by 2, stop before 30\n",
        "n # seq(0, 30, 2) --> c(0, ..., 30)"
      ],
      "execution_count": null,
      "outputs": []
    },
    {
      "cell_type": "code",
      "metadata": {
        "id": "om-qVCHOCkC1"
      },
      "source": [
        "# reshape the array / matrix\n",
        "n = n.reshape(3, 5) # reshape array to be 3x5\n",
        "n.resize(3, 5) # in-place\n",
        "n"
      ],
      "execution_count": null,
      "outputs": []
    },
    {
      "cell_type": "code",
      "metadata": {
        "id": "WG6asPGdCkC4"
      },
      "source": [
        "# interpolation\n",
        "o = np.linspace(0, 4, 9) # return 9 evenly spaced values from 0 to 4\n",
        "o"
      ],
      "execution_count": null,
      "outputs": []
    },
    {
      "cell_type": "code",
      "metadata": {
        "id": "5gLuFerKCkC8"
      },
      "source": [
        "# 1-matrix\n",
        "print(np.ones([3, 2]))\n",
        "print(np.ones([3,2,2]))"
      ],
      "execution_count": null,
      "outputs": []
    },
    {
      "cell_type": "code",
      "metadata": {
        "id": "TkWnS4OXCkDB"
      },
      "source": [
        "# 0-matrix\n",
        "np.zeros([2, 3])"
      ],
      "execution_count": null,
      "outputs": []
    },
    {
      "cell_type": "code",
      "metadata": {
        "id": "HL-bZUTLCkDF"
      },
      "source": [
        "# identity matrix\n",
        "np.eye(3)"
      ],
      "execution_count": null,
      "outputs": []
    },
    {
      "cell_type": "code",
      "metadata": {
        "id": "7XTvbm0jCkDL"
      },
      "source": [
        "# diagonalization / get diagonal\n",
        "y = np.diag([1, 2, 3, 4])\n",
        "print(y)\n",
        "print(np.diag(y))"
      ],
      "execution_count": null,
      "outputs": []
    },
    {
      "cell_type": "code",
      "metadata": {
        "id": "yZ8bTtP4YQKZ"
      },
      "source": [
        "[1, 2, 3] * 3"
      ],
      "execution_count": null,
      "outputs": []
    },
    {
      "cell_type": "code",
      "metadata": {
        "id": "LKGw0TV5CkDO"
      },
      "source": [
        "# repeat arrays\n",
        "print(np.array([1, 2, 3] * 3))\n",
        "print(np.repeat([1, 2, 3], 3))"
      ],
      "execution_count": null,
      "outputs": []
    },
    {
      "cell_type": "markdown",
      "source": [
        "# Numpy as Matrix Calculator"
      ],
      "metadata": {
        "id": "U2tZYVdKx-EP"
      }
    },
    {
      "cell_type": "code",
      "metadata": {
        "id": "p7k1Cx2wCkDU"
      },
      "source": [
        "# arithmetics (element-wise)\n",
        "x = np.array([1,2,3])\n",
        "y = np.array([4,5,6])\n",
        "print(x+y, x-y, x*y, x/y, x**2)"
      ],
      "execution_count": null,
      "outputs": []
    },
    {
      "cell_type": "code",
      "metadata": {
        "id": "e4XySqwoCkDX"
      },
      "source": [
        "# Inner / Dot Product\n",
        "x.dot(y) # (x^T)y\n",
        "np.inner(x, y)"
      ],
      "execution_count": null,
      "outputs": []
    },
    {
      "cell_type": "code",
      "source": [
        "# Outer Product\n",
        "np.outer(x, y)"
      ],
      "metadata": {
        "id": "HTHAkgGS0s2P"
      },
      "execution_count": null,
      "outputs": []
    },
    {
      "cell_type": "code",
      "metadata": {
        "id": "CrqTe4pMCkDb"
      },
      "source": [
        "# transpose\n",
        "z = np.array([y, y**2])\n",
        "print(z, z.shape)\n",
        "print(z.T, z.T.shape)"
      ],
      "execution_count": null,
      "outputs": []
    },
    {
      "cell_type": "code",
      "source": [
        "# matrix multiplication\n",
        "print(np.matmul(z, z.T))\n",
        "print(z.dot(z.T))"
      ],
      "metadata": {
        "id": "nbPBvJ5t0THF"
      },
      "execution_count": null,
      "outputs": []
    },
    {
      "cell_type": "code",
      "source": [
        "# inverse\n",
        "\n",
        "from numpy.linalg import inv\n",
        "a = np.array([[1., 2.], [3., 4.]])\n",
        "ainv = inv(a)\n",
        "print(ainv)"
      ],
      "metadata": {
        "id": "mX2kPx0YyKA-"
      },
      "execution_count": null,
      "outputs": []
    },
    {
      "cell_type": "code",
      "source": [
        "# check AA^(-1) = I\n",
        "print(np.allclose(np.dot(a, ainv), np.eye(2)))"
      ],
      "metadata": {
        "id": "nDOa4N-Rx8TW"
      },
      "execution_count": null,
      "outputs": []
    },
    {
      "cell_type": "code",
      "source": [
        "np.dot(a, ainv)== np.eye(2)"
      ],
      "metadata": {
        "id": "ZDFkslVJiemJ"
      },
      "execution_count": null,
      "outputs": []
    },
    {
      "cell_type": "code",
      "metadata": {
        "id": "1jjYOB8TCkDe"
      },
      "source": [
        "# type of matrix\n",
        "print(z.dtype)\n",
        "print(z.astype('f'))"
      ],
      "execution_count": null,
      "outputs": []
    },
    {
      "cell_type": "code",
      "metadata": {
        "id": "gyg5uPBjCkDh"
      },
      "source": [
        "# Math functions\n",
        "a = np.array([-4, -2, 1, 3, 5])\n",
        "print(a.sum(), a.max(), a.min(), a.mean(), a.std(), a.argmax(), a.argmin())"
      ],
      "execution_count": null,
      "outputs": []
    },
    {
      "cell_type": "code",
      "metadata": {
        "id": "YMHvery_CkDR"
      },
      "source": [
        "# combining arrays\n",
        "p = np.ones([2, 3])\n",
        "print(np.vstack([p, 2*p]))\n",
        "print(np.hstack([p, 2*p]))"
      ],
      "execution_count": null,
      "outputs": []
    },
    {
      "cell_type": "markdown",
      "metadata": {
        "id": "eIMORsmYCkDk"
      },
      "source": [
        "# Matrix Slicing"
      ]
    },
    {
      "cell_type": "code",
      "metadata": {
        "id": "tRQXvdN4CkDk"
      },
      "source": [
        "# Array\n",
        "s = np.arange(13)**2\n",
        "print(s[0], s[4], s[-1], s[1:5], s[-4:])\n",
        "print(s[-5::-2]) # array[start:stop:stepsize]"
      ],
      "execution_count": null,
      "outputs": []
    },
    {
      "cell_type": "code",
      "source": [
        "s"
      ],
      "metadata": {
        "id": "6O22mubh3ppC"
      },
      "execution_count": null,
      "outputs": []
    },
    {
      "cell_type": "code",
      "metadata": {
        "id": "A85efZp9CkDo"
      },
      "source": [
        "# Matrix\n",
        "r = np.arange(36)\n",
        "r.resize((6, 6))\n",
        "print(r)\n",
        "print(r[2, 2], r[3, 3:6], r[:2, :-1], r[-1, ::2], r[r > 30])\n",
        "r[r > 30] = 30\n",
        "print(r)"
      ],
      "execution_count": null,
      "outputs": []
    },
    {
      "cell_type": "markdown",
      "source": [
        "# Simple Random Numbers\n",
        "Ref in numpy: [here](https://numpy.org/doc/stable/reference/random/index.html)"
      ],
      "metadata": {
        "id": "2gvskmwhzhhP"
      }
    },
    {
      "cell_type": "code",
      "source": [
        "import numpy as np\n",
        "temp = np.random.choice(49, 6, replace=False)\n",
        "np.sort(temp)"
      ],
      "metadata": {
        "id": "76rfZ90dHHK5"
      },
      "execution_count": null,
      "outputs": []
    },
    {
      "cell_type": "code",
      "source": [
        "np.random.seed(9394)\n",
        "temp = np.random.choice(49, 6, replace=False)\n",
        "print(np.sort(temp))\n",
        "temp = np.random.choice(49, 6, replace=False)\n",
        "print(np.sort(temp))\n",
        "temp = np.random.choice(49, 6, replace=False)\n",
        "print(np.sort(temp))"
      ],
      "metadata": {
        "id": "fJWPqX8CIdvo"
      },
      "execution_count": null,
      "outputs": []
    },
    {
      "cell_type": "code",
      "source": [],
      "metadata": {
        "id": "SAjGuK1hi1lN"
      },
      "execution_count": null,
      "outputs": []
    }
  ]
}
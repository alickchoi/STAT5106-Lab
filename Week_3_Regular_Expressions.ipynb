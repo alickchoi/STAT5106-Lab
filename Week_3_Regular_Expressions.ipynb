{
  "nbformat": 4,
  "nbformat_minor": 0,
  "metadata": {
    "kernelspec": {
      "display_name": "Python 3",
      "language": "python",
      "name": "python3"
    },
    "language_info": {
      "codemirror_mode": {
        "name": "ipython",
        "version": 3
      },
      "file_extension": ".py",
      "mimetype": "text/x-python",
      "name": "python",
      "nbconvert_exporter": "python",
      "pygments_lexer": "ipython3",
      "version": "3.6.9"
    },
    "colab": {
      "provenance": [],
      "include_colab_link": true
    }
  },
  "cells": [
    {
      "cell_type": "markdown",
      "metadata": {
        "id": "view-in-github",
        "colab_type": "text"
      },
      "source": [
        "<a href=\"https://colab.research.google.com/github/alickchoi/STAT5106-Lab/blob/main/Week_3_Regular_Expressions.ipynb\" target=\"_parent\"><img src=\"https://colab.research.google.com/assets/colab-badge.svg\" alt=\"Open In Colab\"/></a>"
      ]
    },
    {
      "cell_type": "markdown",
      "metadata": {
        "id": "CZlCoFWWMOO3"
      },
      "source": [
        "# Regular Expressions"
      ]
    },
    {
      "cell_type": "code",
      "metadata": {
        "id": "rx7UHUh0tcrI"
      },
      "source": [
        "import re"
      ],
      "execution_count": null,
      "outputs": []
    },
    {
      "cell_type": "markdown",
      "metadata": {
        "id": "HA3ZIxc5f5wL"
      },
      "source": [
        "### Basic Regex"
      ]
    },
    {
      "cell_type": "code",
      "metadata": {
        "id": "KRuKQwpcguVK",
        "colab": {
          "base_uri": "https://localhost:8080/"
        },
        "outputId": "8800a234-1e23-4e71-ba02-475ccc335888"
      },
      "source": [
        "# re.search\n",
        "fruit = 'banana'\n",
        "# print(True if re.search('an', fruit) else False)\n",
        "print(bool(re.search('an', fruit)))"
      ],
      "execution_count": null,
      "outputs": [
        {
          "output_type": "stream",
          "name": "stdout",
          "text": [
            "True\n"
          ]
        }
      ]
    },
    {
      "cell_type": "code",
      "metadata": {
        "id": "QGYDc6QYf-hp",
        "colab": {
          "base_uri": "https://localhost:8080/"
        },
        "outputId": "acfe1a6e-f212-4f3f-f944-d444f03d8d2e"
      },
      "source": [
        "fruits = ['apple', 'banana', 'pear']\n",
        "print([fruit for fruit in fruits if re.search('an', fruit)])"
      ],
      "execution_count": null,
      "outputs": [
        {
          "output_type": "stream",
          "name": "stdout",
          "text": [
            "['banana']\n"
          ]
        }
      ]
    },
    {
      "cell_type": "code",
      "metadata": {
        "id": "8SZw22jlhaoq",
        "colab": {
          "base_uri": "https://localhost:8080/"
        },
        "outputId": "4215716f-ef72-41a8-bb28-c3f5b74d9752"
      },
      "source": [
        "\n",
        "# print([fruit for fruit in fruits if re.search('.a.', fruit)])\n",
        "# start with a\n",
        "# print([fruit for fruit in fruits if re.search('^a', fruit)])\n",
        "\n",
        "print([fruit for fruit in fruits if re.search('a$', fruit)])"
      ],
      "execution_count": null,
      "outputs": [
        {
          "output_type": "stream",
          "name": "stdout",
          "text": [
            "['banana']\n"
          ]
        }
      ]
    },
    {
      "cell_type": "code",
      "metadata": {
        "id": "dkJvvxRiiCEl",
        "colab": {
          "base_uri": "https://localhost:8080/"
        },
        "outputId": "d0b5e304-f8dd-4b54-e6b5-df24e5841e7b"
      },
      "source": [
        "# difference between + , *\n",
        "# print([fruit for fruit in ['ba', 'banana'] if re.search('^b.+a$', fruit)])\n",
        "print([fruit for fruit in ['ba', 'banana'] if re.search('^b.*a$', fruit)])"
      ],
      "execution_count": null,
      "outputs": [
        {
          "output_type": "stream",
          "name": "stdout",
          "text": [
            "['ba', 'banana']\n"
          ]
        }
      ]
    },
    {
      "cell_type": "code",
      "metadata": {
        "id": "I2cUXtDqiSdF",
        "colab": {
          "base_uri": "https://localhost:8080/"
        },
        "outputId": "ef1db1d5-5c73-476d-a03b-5fc29afe141c"
      },
      "source": [
        "apple_goods = [\"apple pie\", \"apple\", \"apple cake\"]\n",
        "print([good for good in apple_goods if re.search('apple', good)])\n",
        "print([good for good in apple_goods if re.search('^apple$', good)])"
      ],
      "execution_count": null,
      "outputs": [
        {
          "output_type": "stream",
          "name": "stdout",
          "text": [
            "['apple pie', 'apple', 'apple cake']\n",
            "['apple']\n"
          ]
        }
      ]
    },
    {
      "cell_type": "code",
      "metadata": {
        "id": "rlNTJwzCiuy5",
        "colab": {
          "base_uri": "https://localhost:8080/"
        },
        "outputId": "2140505b-e190-4a35-b33b-c58f85b04004"
      },
      "source": [
        "# \"or\" operations\n",
        "print([x for x in ['gray', 'grey'] if re.search('gr(e|a)y', x)])\n",
        "print([x for x in ['gray', 'grey'] if re.search('gr[ea]y', x)])"
      ],
      "execution_count": null,
      "outputs": [
        {
          "output_type": "stream",
          "name": "stdout",
          "text": [
            "['gray', 'grey']\n",
            "['gray', 'grey']\n"
          ]
        }
      ]
    },
    {
      "cell_type": "code",
      "metadata": {
        "id": "72BjJsW9jOcH",
        "colab": {
          "base_uri": "https://localhost:8080/"
        },
        "outputId": "eb2cdd1a-18a2-4aee-a292-dcd3f1d41d65"
      },
      "source": [
        "# re.findall\n",
        "x = \"1888 is the longest year in Roman numerals: MDCCCLXXXVIII\"\n",
        "print(re.findall('CC?', x))\n",
        "print(re.findall('CC+', x))\n",
        "print(re.findall('C[LX]+', x))\n",
        "print(re.findall('C{2}', x))\n",
        "print(re.findall('C{2,}', x))\n",
        "print(re.findall('C{2,3}', x))"
      ],
      "execution_count": null,
      "outputs": [
        {
          "output_type": "stream",
          "name": "stdout",
          "text": [
            "['CC', 'C']\n",
            "['CCC']\n",
            "['CLXXX']\n",
            "['CC']\n",
            "['CCC']\n",
            "['CCC']\n"
          ]
        }
      ]
    },
    {
      "cell_type": "markdown",
      "metadata": {
        "id": "Nm_sVOAxtcrv"
      },
      "source": [
        "Greedy Matching"
      ]
    },
    {
      "cell_type": "code",
      "metadata": {
        "id": "QrA5Neb5tcrx",
        "colab": {
          "base_uri": "https://localhost:8080/",
          "height": 452
        },
        "outputId": "68c68dbc-e697-4d79-dc86-954a54a2b467"
      },
      "source": [
        "line = 'The Department of Statistics (\"the Department\") at the Chinese University of Hong Kong (CUHK) was founded in 1982. In fact, statistical activities at CUHK predate the formation of the Department. Throughout the past 30 years, the Department has been growing steadily as a result of valuable contributions of numerous faculty, staff  members and students. Below shown is a chronicle of major events of the Department:'\n",
        "# print(re.findall('^.*\\.', line)) # Greedy Matching: get as much as possible\n",
        "print(re.findall('^.*?\\.', line)) # Non-Greedy Matching: get until the 1st full-stop."
      ],
      "execution_count": null,
      "outputs": [
        {
          "output_type": "stream",
          "name": "stderr",
          "text": [
            "<>:3: SyntaxWarning: invalid escape sequence '\\.'\n",
            "<>:3: SyntaxWarning: invalid escape sequence '\\.'\n",
            "/tmp/ipython-input-478374609.py:3: SyntaxWarning: invalid escape sequence '\\.'\n",
            "  print(re.findall('^.*?{3}\\.', line)) # Non-Greedy Matching: get until the 1st full-stop.\n"
          ]
        },
        {
          "output_type": "error",
          "ename": "error",
          "evalue": "multiple repeat at position 4",
          "traceback": [
            "\u001b[0;31m---------------------------------------------------------------------------\u001b[0m",
            "\u001b[0;31merror\u001b[0m                                     Traceback (most recent call last)",
            "\u001b[0;32m/tmp/ipython-input-478374609.py\u001b[0m in \u001b[0;36m<cell line: 0>\u001b[0;34m()\u001b[0m\n\u001b[1;32m      1\u001b[0m \u001b[0mline\u001b[0m \u001b[0;34m=\u001b[0m \u001b[0;34m'The Department of Statistics (\"the Department\") at the Chinese University of Hong Kong (CUHK) was founded in 1982. In fact, statistical activities at CUHK predate the formation of the Department. Throughout the past 30 years, the Department has been growing steadily as a result of valuable contributions of numerous faculty, staff  members and students. Below shown is a chronicle of major events of the Department:'\u001b[0m\u001b[0;34m\u001b[0m\u001b[0;34m\u001b[0m\u001b[0m\n\u001b[1;32m      2\u001b[0m \u001b[0;31m# print(re.findall('^.*\\.', line)) # Greedy Matching: get as much as possible\u001b[0m\u001b[0;34m\u001b[0m\u001b[0;34m\u001b[0m\u001b[0m\n\u001b[0;32m----> 3\u001b[0;31m \u001b[0mprint\u001b[0m\u001b[0;34m(\u001b[0m\u001b[0mre\u001b[0m\u001b[0;34m.\u001b[0m\u001b[0mfindall\u001b[0m\u001b[0;34m(\u001b[0m\u001b[0;34m'^.*?{3}\\.'\u001b[0m\u001b[0;34m,\u001b[0m \u001b[0mline\u001b[0m\u001b[0;34m)\u001b[0m\u001b[0;34m)\u001b[0m \u001b[0;31m# Non-Greedy Matching: get until the 1st full-stop.\u001b[0m\u001b[0;34m\u001b[0m\u001b[0;34m\u001b[0m\u001b[0m\n\u001b[0m",
            "\u001b[0;32m/usr/lib/python3.12/re/__init__.py\u001b[0m in \u001b[0;36mfindall\u001b[0;34m(pattern, string, flags)\u001b[0m\n\u001b[1;32m    215\u001b[0m \u001b[0;34m\u001b[0m\u001b[0m\n\u001b[1;32m    216\u001b[0m     Empty matches are included in the result.\"\"\"\n\u001b[0;32m--> 217\u001b[0;31m     \u001b[0;32mreturn\u001b[0m \u001b[0m_compile\u001b[0m\u001b[0;34m(\u001b[0m\u001b[0mpattern\u001b[0m\u001b[0;34m,\u001b[0m \u001b[0mflags\u001b[0m\u001b[0;34m)\u001b[0m\u001b[0;34m.\u001b[0m\u001b[0mfindall\u001b[0m\u001b[0;34m(\u001b[0m\u001b[0mstring\u001b[0m\u001b[0;34m)\u001b[0m\u001b[0;34m\u001b[0m\u001b[0;34m\u001b[0m\u001b[0m\n\u001b[0m\u001b[1;32m    218\u001b[0m \u001b[0;34m\u001b[0m\u001b[0m\n\u001b[1;32m    219\u001b[0m \u001b[0;32mdef\u001b[0m \u001b[0mfinditer\u001b[0m\u001b[0;34m(\u001b[0m\u001b[0mpattern\u001b[0m\u001b[0;34m,\u001b[0m \u001b[0mstring\u001b[0m\u001b[0;34m,\u001b[0m \u001b[0mflags\u001b[0m\u001b[0;34m=\u001b[0m\u001b[0;36m0\u001b[0m\u001b[0;34m)\u001b[0m\u001b[0;34m:\u001b[0m\u001b[0;34m\u001b[0m\u001b[0;34m\u001b[0m\u001b[0m\n",
            "\u001b[0;32m/usr/lib/python3.12/re/__init__.py\u001b[0m in \u001b[0;36m_compile\u001b[0;34m(pattern, flags)\u001b[0m\n\u001b[1;32m    305\u001b[0m                     \u001b[0;34m\"Don't use it.\"\u001b[0m\u001b[0;34m,\u001b[0m\u001b[0;34m\u001b[0m\u001b[0;34m\u001b[0m\u001b[0m\n\u001b[1;32m    306\u001b[0m                     DeprecationWarning)\n\u001b[0;32m--> 307\u001b[0;31m         \u001b[0mp\u001b[0m \u001b[0;34m=\u001b[0m \u001b[0m_compiler\u001b[0m\u001b[0;34m.\u001b[0m\u001b[0mcompile\u001b[0m\u001b[0;34m(\u001b[0m\u001b[0mpattern\u001b[0m\u001b[0;34m,\u001b[0m \u001b[0mflags\u001b[0m\u001b[0;34m)\u001b[0m\u001b[0;34m\u001b[0m\u001b[0;34m\u001b[0m\u001b[0m\n\u001b[0m\u001b[1;32m    308\u001b[0m         \u001b[0;32mif\u001b[0m \u001b[0mflags\u001b[0m \u001b[0;34m&\u001b[0m \u001b[0mDEBUG\u001b[0m\u001b[0;34m:\u001b[0m\u001b[0;34m\u001b[0m\u001b[0;34m\u001b[0m\u001b[0m\n\u001b[1;32m    309\u001b[0m             \u001b[0;32mreturn\u001b[0m \u001b[0mp\u001b[0m\u001b[0;34m\u001b[0m\u001b[0;34m\u001b[0m\u001b[0m\n",
            "\u001b[0;32m/usr/lib/python3.12/re/_compiler.py\u001b[0m in \u001b[0;36mcompile\u001b[0;34m(p, flags)\u001b[0m\n\u001b[1;32m    748\u001b[0m     \u001b[0;32mif\u001b[0m \u001b[0misstring\u001b[0m\u001b[0;34m(\u001b[0m\u001b[0mp\u001b[0m\u001b[0;34m)\u001b[0m\u001b[0;34m:\u001b[0m\u001b[0;34m\u001b[0m\u001b[0;34m\u001b[0m\u001b[0m\n\u001b[1;32m    749\u001b[0m         \u001b[0mpattern\u001b[0m \u001b[0;34m=\u001b[0m \u001b[0mp\u001b[0m\u001b[0;34m\u001b[0m\u001b[0;34m\u001b[0m\u001b[0m\n\u001b[0;32m--> 750\u001b[0;31m         \u001b[0mp\u001b[0m \u001b[0;34m=\u001b[0m \u001b[0m_parser\u001b[0m\u001b[0;34m.\u001b[0m\u001b[0mparse\u001b[0m\u001b[0;34m(\u001b[0m\u001b[0mp\u001b[0m\u001b[0;34m,\u001b[0m \u001b[0mflags\u001b[0m\u001b[0;34m)\u001b[0m\u001b[0;34m\u001b[0m\u001b[0;34m\u001b[0m\u001b[0m\n\u001b[0m\u001b[1;32m    751\u001b[0m     \u001b[0;32melse\u001b[0m\u001b[0;34m:\u001b[0m\u001b[0;34m\u001b[0m\u001b[0;34m\u001b[0m\u001b[0m\n\u001b[1;32m    752\u001b[0m         \u001b[0mpattern\u001b[0m \u001b[0;34m=\u001b[0m \u001b[0;32mNone\u001b[0m\u001b[0;34m\u001b[0m\u001b[0;34m\u001b[0m\u001b[0m\n",
            "\u001b[0;32m/usr/lib/python3.12/re/_parser.py\u001b[0m in \u001b[0;36mparse\u001b[0;34m(str, flags, state)\u001b[0m\n\u001b[1;32m    977\u001b[0m     \u001b[0mstate\u001b[0m\u001b[0;34m.\u001b[0m\u001b[0mstr\u001b[0m \u001b[0;34m=\u001b[0m \u001b[0mstr\u001b[0m\u001b[0;34m\u001b[0m\u001b[0;34m\u001b[0m\u001b[0m\n\u001b[1;32m    978\u001b[0m \u001b[0;34m\u001b[0m\u001b[0m\n\u001b[0;32m--> 979\u001b[0;31m     \u001b[0mp\u001b[0m \u001b[0;34m=\u001b[0m \u001b[0m_parse_sub\u001b[0m\u001b[0;34m(\u001b[0m\u001b[0msource\u001b[0m\u001b[0;34m,\u001b[0m \u001b[0mstate\u001b[0m\u001b[0;34m,\u001b[0m \u001b[0mflags\u001b[0m \u001b[0;34m&\u001b[0m \u001b[0mSRE_FLAG_VERBOSE\u001b[0m\u001b[0;34m,\u001b[0m \u001b[0;36m0\u001b[0m\u001b[0;34m)\u001b[0m\u001b[0;34m\u001b[0m\u001b[0;34m\u001b[0m\u001b[0m\n\u001b[0m\u001b[1;32m    980\u001b[0m     \u001b[0mp\u001b[0m\u001b[0;34m.\u001b[0m\u001b[0mstate\u001b[0m\u001b[0;34m.\u001b[0m\u001b[0mflags\u001b[0m \u001b[0;34m=\u001b[0m \u001b[0mfix_flags\u001b[0m\u001b[0;34m(\u001b[0m\u001b[0mstr\u001b[0m\u001b[0;34m,\u001b[0m \u001b[0mp\u001b[0m\u001b[0;34m.\u001b[0m\u001b[0mstate\u001b[0m\u001b[0;34m.\u001b[0m\u001b[0mflags\u001b[0m\u001b[0;34m)\u001b[0m\u001b[0;34m\u001b[0m\u001b[0;34m\u001b[0m\u001b[0m\n\u001b[1;32m    981\u001b[0m \u001b[0;34m\u001b[0m\u001b[0m\n",
            "\u001b[0;32m/usr/lib/python3.12/re/_parser.py\u001b[0m in \u001b[0;36m_parse_sub\u001b[0;34m(source, state, verbose, nested)\u001b[0m\n\u001b[1;32m    458\u001b[0m     \u001b[0mstart\u001b[0m \u001b[0;34m=\u001b[0m \u001b[0msource\u001b[0m\u001b[0;34m.\u001b[0m\u001b[0mtell\u001b[0m\u001b[0;34m(\u001b[0m\u001b[0;34m)\u001b[0m\u001b[0;34m\u001b[0m\u001b[0;34m\u001b[0m\u001b[0m\n\u001b[1;32m    459\u001b[0m     \u001b[0;32mwhile\u001b[0m \u001b[0;32mTrue\u001b[0m\u001b[0;34m:\u001b[0m\u001b[0;34m\u001b[0m\u001b[0;34m\u001b[0m\u001b[0m\n\u001b[0;32m--> 460\u001b[0;31m         itemsappend(_parse(source, state, verbose, nested + 1,\n\u001b[0m\u001b[1;32m    461\u001b[0m                            not nested and not items))\n\u001b[1;32m    462\u001b[0m         \u001b[0;32mif\u001b[0m \u001b[0;32mnot\u001b[0m \u001b[0msourcematch\u001b[0m\u001b[0;34m(\u001b[0m\u001b[0;34m\"|\"\u001b[0m\u001b[0;34m)\u001b[0m\u001b[0;34m:\u001b[0m\u001b[0;34m\u001b[0m\u001b[0;34m\u001b[0m\u001b[0m\n",
            "\u001b[0;32m/usr/lib/python3.12/re/_parser.py\u001b[0m in \u001b[0;36m_parse\u001b[0;34m(source, state, verbose, nested, first)\u001b[0m\n\u001b[1;32m    688\u001b[0m                                    source.tell() - here + len(this))\n\u001b[1;32m    689\u001b[0m             \u001b[0;32mif\u001b[0m \u001b[0mitem\u001b[0m\u001b[0;34m[\u001b[0m\u001b[0;36m0\u001b[0m\u001b[0;34m]\u001b[0m\u001b[0;34m[\u001b[0m\u001b[0;36m0\u001b[0m\u001b[0;34m]\u001b[0m \u001b[0;32min\u001b[0m \u001b[0m_REPEATCODES\u001b[0m\u001b[0;34m:\u001b[0m\u001b[0;34m\u001b[0m\u001b[0;34m\u001b[0m\u001b[0m\n\u001b[0;32m--> 690\u001b[0;31m                 raise source.error(\"multiple repeat\",\n\u001b[0m\u001b[1;32m    691\u001b[0m                                    source.tell() - here + len(this))\n\u001b[1;32m    692\u001b[0m             \u001b[0;32mif\u001b[0m \u001b[0mitem\u001b[0m\u001b[0;34m[\u001b[0m\u001b[0;36m0\u001b[0m\u001b[0;34m]\u001b[0m\u001b[0;34m[\u001b[0m\u001b[0;36m0\u001b[0m\u001b[0;34m]\u001b[0m \u001b[0;32mis\u001b[0m \u001b[0mSUBPATTERN\u001b[0m\u001b[0;34m:\u001b[0m\u001b[0;34m\u001b[0m\u001b[0;34m\u001b[0m\u001b[0m\n",
            "\u001b[0;31merror\u001b[0m: multiple repeat at position 4"
          ]
        }
      ]
    },
    {
      "cell_type": "markdown",
      "source": [
        "# Example on Regex"
      ],
      "metadata": {
        "id": "8NGrdomBjV9i"
      }
    },
    {
      "cell_type": "markdown",
      "source": [
        "1. [Date](https://en.wikipedia.org/wiki/Date_format_by_country)"
      ],
      "metadata": {
        "id": "CroYA2ftkP6h"
      }
    },
    {
      "cell_type": "code",
      "source": [
        "test_str = '2022-09-24'\n",
        "is_date = re.search('^[0-9]{4}-[0-9]{2}-[0-9]{2}$', test_str)\n",
        "print(bool(is_date))"
      ],
      "metadata": {
        "id": "u_uW0oV0jnFB"
      },
      "execution_count": null,
      "outputs": []
    },
    {
      "cell_type": "markdown",
      "source": [
        "2. [HKID](https://en.wikipedia.org/wiki/Hong_Kong_identity_card#HKID_number)"
      ],
      "metadata": {
        "id": "L7oUDC0QjcSp"
      }
    },
    {
      "cell_type": "code",
      "source": [
        "test_str = \"XW123456(A)\"\n",
        "is_hkid = re.search('^[A-Z]{1,2}[0-9]{6}\\([0-9A]\\)$', test_str)\n",
        "print(bool(is_hkid))"
      ],
      "metadata": {
        "id": "uT1kKmAukRqB"
      },
      "execution_count": null,
      "outputs": []
    },
    {
      "cell_type": "markdown",
      "source": [
        "3. [EMail Address](https://en.wikipedia.org/wiki/Email_address#Validation_and_verification)"
      ],
      "metadata": {
        "id": "U2WvQwxTjn6o"
      }
    },
    {
      "cell_type": "code",
      "source": [
        "test_str = 'kyalan.2013@gmail.com'\n",
        "is_email = re.search('^[a-zA-Z0-9._%+-]+@[a-zA-Z0-9-.]+$', test_str)\n",
        "print(bool(is_email))"
      ],
      "metadata": {
        "id": "KDKmuxhsk1z5"
      },
      "execution_count": null,
      "outputs": []
    },
    {
      "cell_type": "markdown",
      "source": [
        "4. [Visa card no.](https://en.wikipedia.org/wiki/Payment_card_number#Issuer_identification_number_(IIN))\n",
        "<br> IIN ranges = 4 ; length = 13 or 16"
      ],
      "metadata": {
        "id": "NeYBIKmmnvfL"
      }
    },
    {
      "cell_type": "code",
      "source": [
        "test_str = '4012888888881881'\n",
        "is_visa = re.search('^4[0-9]{12}([0-9]{3})?$', test_str)\n",
        "print(bool(is_visa))"
      ],
      "metadata": {
        "id": "ETIANrRPp9Io"
      },
      "execution_count": null,
      "outputs": []
    },
    {
      "cell_type": "code",
      "source": [],
      "metadata": {
        "id": "Okbn9FVVNPvT"
      },
      "execution_count": null,
      "outputs": []
    }
  ]
}
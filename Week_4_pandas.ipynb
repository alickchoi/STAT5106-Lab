{
  "nbformat": 4,
  "nbformat_minor": 0,
  "metadata": {
    "kernelspec": {
      "display_name": "Python 3",
      "language": "python",
      "name": "python3"
    },
    "language_info": {
      "codemirror_mode": {
        "name": "ipython",
        "version": 3
      },
      "file_extension": ".py",
      "mimetype": "text/x-python",
      "name": "python",
      "nbconvert_exporter": "python",
      "pygments_lexer": "ipython3",
      "version": "3.6.9"
    },
    "colab": {
      "provenance": [],
      "include_colab_link": true
    }
  },
  "cells": [
    {
      "cell_type": "markdown",
      "metadata": {
        "id": "view-in-github",
        "colab_type": "text"
      },
      "source": [
        "<a href=\"https://colab.research.google.com/github/alickchoi/STAT5106-Lab/blob/main/Week_4_pandas.ipynb\" target=\"_parent\"><img src=\"https://colab.research.google.com/assets/colab-badge.svg\" alt=\"Open In Colab\"/></a>"
      ]
    },
    {
      "cell_type": "markdown",
      "metadata": {
        "id": "efq7x2t5HJBV"
      },
      "source": [
        "# Initiation of a DataFrame\n",
        "\n",
        "idea: [Hong Kong Airport flight schedule](https://www.hongkongairport.com/en/flights/departures/passenger.page)\n",
        "\n",
        "Further Reference: [The API](https://data.gov.hk/tc-data/dataset/aahk-team1-flight-info)"
      ]
    },
    {
      "cell_type": "markdown",
      "source": [
        "Feel free to try\n",
        "\n",
        "```python\n",
        "import requests\n",
        "import pandas as pd\n",
        "import numpy as np\n",
        "\n",
        "url = 'https://www.hongkongairport.com/flightinfo-rest/rest/flights/past?date=2025-09-19&lang=en&cargo=false&arrival=false'\n",
        "json_data = requests.get(url).json()\n",
        "\n",
        "df = pd.json_normalize(json_data[1], record_path=['list'], meta = ['date']).explode('flight').explode('destination').reset_index(drop=True)\n",
        "df_flight = pd.json_normalize(df.flight)\n",
        "df = pd.concat([df.drop('flight', axis=1), df_flight], axis=1)\n",
        "\n",
        "np.random.seed(9527)\n",
        "df.sample(3)\n",
        "```\n",
        "\n"
      ],
      "metadata": {
        "id": "4z1lHd8Cksoh"
      }
    },
    {
      "cell_type": "code",
      "metadata": {
        "id": "aEdF5xNSHJBW"
      },
      "source": [
        "import pandas as pd"
      ],
      "execution_count": null,
      "outputs": []
    },
    {
      "cell_type": "code",
      "source": [
        "# How to build a simple data frame\n",
        "flights = [\n",
        "    {'date': '2025-09-19 00:05', 'flight no': 'BA 4149', 'destination':'Perth', 'Check-in': 'BC'}\n",
        "    , {'date': '2025-09-19 07:15', 'flight no': 'UO 618', 'destination':'Seoul', 'Check-in': 'H'}\n",
        "    , {'date': '2025-09-19 14:30', 'flight no': 'PG 4558', 'destination':'Bangkok', 'Check-in': 'A'}\n",
        "]\n",
        "df_flights = pd.DataFrame(flights)\n",
        "print(df_flights)"
      ],
      "metadata": {
        "id": "z4IzW-_AGxwm"
      },
      "execution_count": null,
      "outputs": []
    },
    {
      "cell_type": "code",
      "metadata": {
        "id": "IGsIMsZLHJBW"
      },
      "source": [
        "# How to build a simple data frame, by columns\n",
        "flights_col = {\n",
        "    'data no': [1, 2, 3]\n",
        "    , 'date': ['2025-09-19 00:05', '2025-09-19 07:15', '2025-09-19 14:30']\n",
        "    , 'flight no': ['BA 4149', 'UO 618', 'PG 4558']\n",
        "}\n",
        "df_flights_col = pd.DataFrame(flights_col)\n",
        "print(df_flights_col)"
      ],
      "execution_count": null,
      "outputs": []
    },
    {
      "cell_type": "code",
      "metadata": {
        "id": "LbWCpbwNHJBX"
      },
      "source": [
        "# build data frame with data number as Index\n",
        "df_flights = pd.DataFrame(flights, index=[100, 101, 102])\n",
        "print(df_flights)"
      ],
      "execution_count": null,
      "outputs": []
    },
    {
      "cell_type": "code",
      "source": [
        "df_2 = pd.DataFrame(flights)\n",
        "df_2 = df_2.set_index('flight no')"
      ],
      "metadata": {
        "id": "PrCVLMABWcW6"
      },
      "execution_count": null,
      "outputs": []
    },
    {
      "cell_type": "code",
      "source": [
        "df_2.loc['PG 4558']"
      ],
      "metadata": {
        "id": "Irmr0aoEWvTl"
      },
      "execution_count": null,
      "outputs": []
    },
    {
      "cell_type": "code",
      "metadata": {
        "id": "yE9RgYCHJCkM"
      },
      "source": [
        "# use loc for selecting data\n",
        "print(df_flights.loc[102])"
      ],
      "execution_count": null,
      "outputs": []
    },
    {
      "cell_type": "code",
      "source": [
        "print(df_flights.iloc[2])"
      ],
      "metadata": {
        "id": "P-O1KvRfWOla"
      },
      "execution_count": null,
      "outputs": []
    },
    {
      "cell_type": "code",
      "source": [
        "df_flights"
      ],
      "metadata": {
        "id": "ceJL7WV1XH4b"
      },
      "execution_count": null,
      "outputs": []
    },
    {
      "cell_type": "code",
      "metadata": {
        "id": "QZVBngLkDjdI"
      },
      "source": [
        "print(df_flights[['flight no', 'destination']])"
      ],
      "execution_count": null,
      "outputs": []
    },
    {
      "cell_type": "code",
      "metadata": {
        "id": "YcKZzQdOJZFu"
      },
      "source": [
        "# using loc and iloc for selecting a specific data elements\n",
        "print(df_flights.loc[101, 'date'])\n",
        "print(df_flights.iloc[1,0])"
      ],
      "execution_count": null,
      "outputs": []
    },
    {
      "cell_type": "markdown",
      "metadata": {
        "id": "RrVzwpCNHJBX"
      },
      "source": [
        "# MovieLens\n",
        "\n",
        "* [Data Source Link](https://grouplens.org/datasets/movielens/)\n",
        "* The small dataset version is involved – [ml-latest-small.zip](http://files.grouplens.org/datasets/movielens/ml-latest-small.zip), with 100K ratings <br/>\n",
        "(Of course you can play the larger version if you are interested in)\n",
        "* 4 files are consisted ([details](http://files.grouplens.org/datasets/movielens/ml-latest-small-README.html))"
      ]
    },
    {
      "cell_type": "code",
      "metadata": {
        "id": "Yk0bKO3cHJBX"
      },
      "source": [
        "# Download file\n",
        "\n",
        "from urllib.request import urlretrieve\n",
        "urlretrieve(\"http://files.grouplens.org/datasets/movielens/ml-latest-small.zip\", \"ml-latest-small.zip\")"
      ],
      "execution_count": null,
      "outputs": []
    },
    {
      "cell_type": "code",
      "metadata": {
        "id": "BmgnGr_aHJBX"
      },
      "source": [
        "# Directly read csvs in Zip file\n",
        "\n",
        "import zipfile\n",
        "\n",
        "zf = zipfile.ZipFile('ml-latest-small.zip')\n",
        "df_movies = pd.read_csv(zf.open('ml-latest-small/movies.csv'), dtype='str')\n",
        "df_ratings = pd.read_csv(zf.open('ml-latest-small/ratings.csv'), dtype='str')"
      ],
      "execution_count": null,
      "outputs": []
    },
    {
      "cell_type": "code",
      "metadata": {
        "id": "NUEi8g40HJBY"
      },
      "source": [
        "# 1st step of analysis, review data frame structure.\n",
        "print(df_movies.info(), \"\\n\")\n",
        "print(df_movies.describe(), \"\\n\")\n",
        "print(df_movies.head())\n",
        "print(df_movies.tail())"
      ],
      "execution_count": null,
      "outputs": []
    },
    {
      "cell_type": "code",
      "metadata": {
        "id": "guQ2Vt2YHJBY"
      },
      "source": [
        "# get df row and columns\n",
        "print(df_movies.shape)"
      ],
      "execution_count": null,
      "outputs": []
    },
    {
      "cell_type": "code",
      "metadata": {
        "id": "xr0z0ozKHJBY"
      },
      "source": [
        "# when you used the zip handler, please close it.\n",
        "zf.close()"
      ],
      "execution_count": null,
      "outputs": []
    },
    {
      "cell_type": "code",
      "metadata": {
        "id": "eePuwi6gJlxD"
      },
      "source": [
        "# count the unique number of movies\n",
        "df_movies['movieId'].nunique()"
      ],
      "execution_count": null,
      "outputs": []
    },
    {
      "cell_type": "code",
      "source": [
        "df_ratings.head()"
      ],
      "metadata": {
        "id": "fzxk1PJZihE2"
      },
      "execution_count": null,
      "outputs": []
    },
    {
      "cell_type": "code",
      "source": [
        "df = df_ratings.merge(df_movies, how='left', on='movieId')\n",
        "print(df.tail())"
      ],
      "metadata": {
        "id": "nrddimkpvF5g"
      },
      "execution_count": null,
      "outputs": []
    },
    {
      "cell_type": "code",
      "source": [
        "#Find the peak month users rate movies\n",
        "df['datetime'] = pd.to_datetime(df.timestamp, unit='s')\n",
        "df['months'] = df['datetime'].dt.month"
      ],
      "metadata": {
        "id": "jHiEcZRrvwiM"
      },
      "execution_count": null,
      "outputs": []
    },
    {
      "cell_type": "code",
      "source": [
        "df.head()"
      ],
      "metadata": {
        "id": "LTU6cqcOjQJN"
      },
      "execution_count": null,
      "outputs": []
    },
    {
      "cell_type": "code",
      "metadata": {
        "id": "4pKihBbiL-3x"
      },
      "source": [
        "df['months'].value_counts()"
      ],
      "execution_count": null,
      "outputs": []
    },
    {
      "cell_type": "code",
      "metadata": {
        "id": "xQPa0B3UHJBZ"
      },
      "source": [
        "#Find the peak hour users rate movies\n",
        "df['hours'] = df.datetime.dt.hour\n",
        "print(df['hours'].value_counts().index.values[0], 'th hour is the peak hour')"
      ],
      "execution_count": null,
      "outputs": []
    },
    {
      "cell_type": "code",
      "source": [
        "df['hours'].value_counts().index[0]"
      ],
      "metadata": {
        "id": "-Zl22HpUbd3r"
      },
      "execution_count": null,
      "outputs": []
    },
    {
      "cell_type": "code",
      "source": [
        "import seaborn as sns\n",
        "sns.countplot(data = df, x = 'hours', palette='Purples')"
      ],
      "metadata": {
        "id": "USra3lnow8Zs"
      },
      "execution_count": null,
      "outputs": []
    },
    {
      "cell_type": "markdown",
      "metadata": {
        "id": "NrdrBo2ZHJBa"
      },
      "source": [
        "# Chunk in read_csv"
      ]
    },
    {
      "cell_type": "code",
      "metadata": {
        "id": "VVh2amcBSsn9"
      },
      "source": [
        "import zipfile\n",
        "\n",
        "zf = zipfile.ZipFile('ml-latest-small.zip')"
      ],
      "execution_count": null,
      "outputs": []
    },
    {
      "cell_type": "code",
      "metadata": {
        "id": "66ZCk3MLHJBa"
      },
      "source": [
        "iter_df_movies = pd.read_csv(zf.open('ml-latest-small/movies.csv'), chunksize=1024)"
      ],
      "execution_count": null,
      "outputs": []
    },
    {
      "cell_type": "code",
      "metadata": {
        "id": "tMe1DQEhS2eQ"
      },
      "source": [
        "type(iter_df_movies)"
      ],
      "execution_count": null,
      "outputs": []
    },
    {
      "cell_type": "code",
      "metadata": {
        "id": "wzN8ghiyHJBa"
      },
      "source": [
        "# iterate for each small chunk\n",
        "df_movies_mini = next(iter_df_movies)\n",
        "print(df_movies_mini.head(1), df_movies_mini.tail(1))"
      ],
      "execution_count": null,
      "outputs": []
    },
    {
      "cell_type": "code",
      "metadata": {
        "id": "8vGz4-PhTYvG"
      },
      "source": [
        "# iterate for each small chunk\n",
        "df_movies_mini = next(iter_df_movies)\n",
        "print(df_movies_mini.head(1), df_movies_mini.tail(1))"
      ],
      "execution_count": null,
      "outputs": []
    },
    {
      "cell_type": "code",
      "metadata": {
        "id": "uD3QG8Z2HJBa"
      },
      "source": [
        "# for loops\n",
        "for df_movies_mini in iter_df_movies:\n",
        "    print(\"Reading rows\", df_movies_mini.index[0], df_movies_mini.index[-1])"
      ],
      "execution_count": null,
      "outputs": []
    },
    {
      "cell_type": "code",
      "source": [
        "next(iter_df_movies)"
      ],
      "metadata": {
        "id": "gCCVOy1DpHaG"
      },
      "execution_count": null,
      "outputs": []
    },
    {
      "cell_type": "markdown",
      "metadata": {
        "id": "YsOBez8qHJBa"
      },
      "source": [
        "# Generators"
      ]
    },
    {
      "cell_type": "code",
      "metadata": {
        "id": "XWe7KUY1HJBa"
      },
      "source": [
        "def gen_example():\n",
        "    n = 1\n",
        "    print('This is printed first')\n",
        "    # Generator function contains yield statements\n",
        "    yield n\n",
        "\n",
        "    n += 1\n",
        "    print('This is printed second')\n",
        "    yield n\n",
        "\n",
        "    n += 1\n",
        "    print('This is printed at last')\n",
        "    yield n"
      ],
      "execution_count": null,
      "outputs": []
    },
    {
      "cell_type": "code",
      "metadata": {
        "id": "3KvpmJojHJBb"
      },
      "source": [
        "g_eg = gen_example()\n",
        "print(g_eg)"
      ],
      "execution_count": null,
      "outputs": []
    },
    {
      "cell_type": "code",
      "metadata": {
        "id": "SVxmyGqwHJBb"
      },
      "source": [
        "print(next(g_eg))"
      ],
      "execution_count": null,
      "outputs": []
    },
    {
      "cell_type": "code",
      "metadata": {
        "id": "8yr3bgDmHJBb"
      },
      "source": [
        "def processing_rows(zipfilename, csvfile):\n",
        "    zf_gen = zipfile.ZipFile(zipfilename)\n",
        "    iter_df_movies = pd.read_csv(zf.open(csvfile), chunksize=1024)\n",
        "    for df_movies_mini in iter_df_movies:\n",
        "        yield (df_movies_mini.index[0], df_movies_mini.index[-1])\n",
        "\n",
        "g_df = processing_rows('ml-latest-small.zip', 'ml-latest-small/movies.csv')"
      ],
      "execution_count": null,
      "outputs": []
    },
    {
      "cell_type": "code",
      "source": [
        "next(g_df)"
      ],
      "metadata": {
        "id": "XCzQro2RrDXZ"
      },
      "execution_count": null,
      "outputs": []
    },
    {
      "cell_type": "code",
      "metadata": {
        "scrolled": true,
        "id": "FIVLC1FSHJBb"
      },
      "source": [
        "for g_df_out in g_df:\n",
        "    print(\"Reading rows\", g_df_out)"
      ],
      "execution_count": null,
      "outputs": []
    },
    {
      "cell_type": "code",
      "metadata": {
        "id": "8Pke29LEWHuM"
      },
      "source": [],
      "execution_count": null,
      "outputs": []
    }
  ]
}